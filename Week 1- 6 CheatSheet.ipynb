{
 "cells": [
  {
   "cell_type": "markdown",
   "id": "athletic-serbia",
   "metadata": {},
   "source": [
    "# CheatSheet\n",
    "\n",
    "본 파일은 1주차부터 6주차까지의 내용을 요약했습니다! 상단 File -> Print -> Save as PDF 을 이용하여 저장하시거나 파이선 하실 때 자주 참고하시기 바랍니다!"
   ]
  },
  {
   "cell_type": "markdown",
   "id": "early-programmer",
   "metadata": {},
   "source": [
    "# **INDEX**\n",
    "\n",
    "#### - [Week 1](#week1cell)\n",
    "#### - [Week 2](#week2cell)\n",
    "#### - [Week 3](#week3cell)\n",
    "#### - [Week 4](#week4cell)\n",
    "#### - [Week 5](#week5cell)\n",
    "#### - [Week 6](#week6cell)"
   ]
  },
  {
   "cell_type": "markdown",
   "id": "adapted-newport",
   "metadata": {},
   "source": [
    "<a id='week1cell'></a>\n",
    "# Week 1"
   ]
  },
  {
   "cell_type": "markdown",
   "id": "composite-crystal",
   "metadata": {},
   "source": [
    "#### 1. print"
   ]
  },
  {
   "cell_type": "code",
   "execution_count": 3,
   "id": "essential-evaluation",
   "metadata": {},
   "outputs": [
    {
     "name": "stdout",
     "output_type": "stream",
     "text": [
      "Hi\n",
      "12\n",
      "True\n"
     ]
    }
   ],
   "source": [
    "print(\"Hi\")\n",
    "print(12)\n",
    "print(True)"
   ]
  },
  {
   "cell_type": "markdown",
   "id": "developing-leone",
   "metadata": {},
   "source": [
    "#### 2. Comment (주석)"
   ]
  },
  {
   "cell_type": "code",
   "execution_count": 4,
   "id": "shared-schema",
   "metadata": {},
   "outputs": [],
   "source": [
    "# x = 2 / 0\n",
    "# This is a comment\n",
    "# # # # # # #"
   ]
  },
  {
   "cell_type": "markdown",
   "id": "angry-match",
   "metadata": {},
   "source": [
    "#### 3. Variables (변수)"
   ]
  },
  {
   "cell_type": "code",
   "execution_count": 12,
   "id": "foster-minnesota",
   "metadata": {},
   "outputs": [
    {
     "name": "stdout",
     "output_type": "stream",
     "text": [
      "1\n",
      "python_learning\n",
      "False\n",
      "<class 'int'>\n"
     ]
    }
   ],
   "source": [
    "# '=' 사용하면 값을 저장하거나 지정합니다\n",
    "a = 1\n",
    "b = \"python_learning\"\n",
    "c = False\n",
    "d = type(a)\n",
    "\n",
    "print(a)\n",
    "print(b)\n",
    "print(c)\n",
    "print(d)"
   ]
  },
  {
   "cell_type": "markdown",
   "id": "understood-cooking",
   "metadata": {},
   "source": [
    "#### 4. Basic Operations (기본 연산)"
   ]
  },
  {
   "cell_type": "code",
   "execution_count": 14,
   "id": "sophisticated-richards",
   "metadata": {},
   "outputs": [
    {
     "name": "stdout",
     "output_type": "stream",
     "text": [
      "13\n",
      "7\n",
      "30\n",
      "3.3333333333333335\n",
      "1\n",
      "1000\n",
      "18\n",
      "True\n",
      "False\n",
      "False\n",
      "True\n"
     ]
    }
   ],
   "source": [
    "a = 10\n",
    "b = 3\n",
    "c = 4\n",
    "\n",
    "print(a + b) # 덧셈\n",
    "print(a - b) # 뺄셈\n",
    "print(a * b) # 곱셈\n",
    "print(a / b) # 나눗셈\n",
    "print(a % b) # 나머지\n",
    "print(a**b) # 제곱\n",
    "\n",
    "a += 8\n",
    "print(a) # 제자리 연산\n",
    "\n",
    "# '=='이나 '!=' 을 사용하면 참거짓 유무를 판별합니다. \n",
    "print(b + c == 7)\n",
    "\n",
    "print(not True)\n",
    "print(True and False)\n",
    "print(True or False)"
   ]
  },
  {
   "cell_type": "markdown",
   "id": "affiliated-resort",
   "metadata": {},
   "source": [
    "<a id='week2cell'></a>\n",
    "# Week 2"
   ]
  },
  {
   "cell_type": "markdown",
   "id": "german-regulation",
   "metadata": {},
   "source": [
    "#### 1. if / elif / else"
   ]
  },
  {
   "cell_type": "code",
   "execution_count": 11,
   "id": "grand-animal",
   "metadata": {},
   "outputs": [
    {
     "name": "stdout",
     "output_type": "stream",
     "text": [
      "바나나\n"
     ]
    }
   ],
   "source": [
    "a = 8\n",
    "\n",
    "if a == 5:                      # 상황 1\n",
    "    print(\"사과\")\n",
    "    \n",
    "elif 5 < a < 10:           # 상황 1이 안나온다면, 상황 2 고려\n",
    "    print(\"바나나\")\n",
    "\n",
    "else:                             # 그것마저 안된다면, 무조건 상황 3\n",
    "    print(\"거봉\")"
   ]
  },
  {
   "cell_type": "markdown",
   "id": "ahead-verse",
   "metadata": {},
   "source": [
    "#### 2. for / while"
   ]
  },
  {
   "cell_type": "code",
   "execution_count": 18,
   "id": "radio-recording",
   "metadata": {},
   "outputs": [
    {
     "name": "stdout",
     "output_type": "stream",
     "text": [
      "FOR LOOP\n",
      "0\n",
      "3\n",
      "6\n",
      "9\n",
      "WHILE LOOP\n",
      "0\n",
      "3\n",
      "6\n",
      "9\n"
     ]
    }
   ],
   "source": [
    "print(\"FOR LOOP\")\n",
    "for i in range(10):\n",
    "    if i % 3 == 0:\n",
    "        print(i)\n",
    "\n",
    "print(\"WHILE LOOP\")        \n",
    "j = 0\n",
    "while j < 10:\n",
    "    if j % 3 == 0:\n",
    "        print(j)\n",
    "    j += 1"
   ]
  },
  {
   "cell_type": "markdown",
   "id": "acting-discipline",
   "metadata": {},
   "source": [
    "#### 3. List (1/2)"
   ]
  },
  {
   "cell_type": "code",
   "execution_count": 20,
   "id": "moving-happiness",
   "metadata": {},
   "outputs": [
    {
     "name": "stdout",
     "output_type": "stream",
     "text": [
      "length 4\n",
      "num_list 1\n",
      "num_list 2\n",
      "num_list 3\n",
      "num_list 4\n",
      "nested_list [1, 2]\n",
      "nested_list [3, [4, 5]]\n",
      "nested_list 6\n"
     ]
    }
   ],
   "source": [
    "num_list = [1,2,3,4]\n",
    "nested_list = [[1,2], [3, [4,5]], 6]\n",
    "print(\"length\", len(num_list))\n",
    "\n",
    "for i in num_list:\n",
    "    print(\"num_list\", i)\n",
    "    \n",
    "for j in range(len(nested_list)):\n",
    "    print(\"nested_list\", nested_list[j])"
   ]
  },
  {
   "cell_type": "markdown",
   "id": "imposed-consent",
   "metadata": {},
   "source": [
    "<a id='week3cell'></a>\n",
    "# Week 3"
   ]
  },
  {
   "cell_type": "markdown",
   "id": "german-argentina",
   "metadata": {},
   "source": [
    "#### 1. List (2/2)"
   ]
  },
  {
   "cell_type": "code",
   "execution_count": 23,
   "id": "trained-macintosh",
   "metadata": {},
   "outputs": [
    {
     "name": "stdout",
     "output_type": "stream",
     "text": [
      "[]\n"
     ]
    }
   ],
   "source": [
    "one_list = [1]\n",
    "one_list.append(3) # 자료 추가\n",
    "one_list.remove(3) # 자료 제거\n",
    "one_list.clear() # 자료 모두 제거\n",
    "one_list.insert(0, 3) # 0번째 자리에 3을 넣기\n",
    "del(one_list[0])\n",
    "print(one_list)"
   ]
  },
  {
   "cell_type": "code",
   "execution_count": 24,
   "id": "greatest-vinyl",
   "metadata": {},
   "outputs": [
    {
     "name": "stdout",
     "output_type": "stream",
     "text": [
      "[4, 5]\n",
      "[7, 8, 9, 10]\n",
      "[2, 4, 6]\n",
      "[1, 2, 3, 4]\n",
      "[10, 9, 8, 7, 6, 5, 4, 3, 2, 1]\n",
      "[8, 6]\n"
     ]
    }
   ],
   "source": [
    "ten_list = [1,2,3,4,5,6,7,8,9,10]\n",
    "\n",
    "print(ten_list[3:5]) # 4번째 자료부터 5번째까지\n",
    "print(ten_list[6:]) # 7번째 자료부터 끝까지\n",
    "print(ten_list[1:6:2]) # 두번째 자료부터 5번째 자료까지, 한번에 2개씩 건너뛰기\n",
    "print(ten_list[:4]) # 처음부터 4번째 자료까지\n",
    "print(ten_list[::-1]) # 거꾸로\n",
    "print(ten_list[7: 3: -2]) # 역행으로 된 경우, 한번에 2개씩 뒤로"
   ]
  },
  {
   "cell_type": "code",
   "execution_count": 26,
   "id": "exact-context",
   "metadata": {},
   "outputs": [
    {
     "name": "stdout",
     "output_type": "stream",
     "text": [
      "2\n",
      "12\n"
     ]
    }
   ],
   "source": [
    "if 2 in ten_list:     # 리스트에 있는지 알아보기\n",
    "    print(2)\n",
    "if 12 not in ten_list: # 리스트에 없는지 알아보기\n",
    "    print(12)"
   ]
  },
  {
   "cell_type": "markdown",
   "id": "common-kazakhstan",
   "metadata": {},
   "source": [
    "#### 2. Functions (함수)"
   ]
  },
  {
   "cell_type": "code",
   "execution_count": 27,
   "id": "suburban-jaguar",
   "metadata": {},
   "outputs": [],
   "source": [
    "def factorial(num): # def - 함수 만들기, factorial - 함수 이름, num - 함수의 인자\n",
    "    \n",
    "    # input: num\n",
    "    # output: fact\n",
    "    # 이 함수는 num의 팩토리얼을 계산합니다!\n",
    "    \n",
    "    fact = 1\n",
    "    \n",
    "    for i in range(1, x+1):\n",
    "        fact *= i\n",
    "     \n",
    "    return fact # 계산하고 원하는 값을 리턴합니다"
   ]
  },
  {
   "cell_type": "markdown",
   "id": "vital-annex",
   "metadata": {},
   "source": [
    "<a id='week4cell'></a>\n",
    "# Week 4"
   ]
  },
  {
   "cell_type": "markdown",
   "id": "coordinate-guinea",
   "metadata": {},
   "source": [
    "#### 1. Tuples (튜플)"
   ]
  },
  {
   "cell_type": "code",
   "execution_count": 30,
   "id": "mexican-company",
   "metadata": {},
   "outputs": [
    {
     "name": "stdout",
     "output_type": "stream",
     "text": [
      "4\n",
      "(0, 2, 3, 4, 5)\n"
     ]
    }
   ],
   "source": [
    "num_tuples = (1,2,3,4,5)\n",
    "#num_tuples.append(6) - 튜플은 자료 추가를 못합니다.\n",
    "print(num_tuples[3])\n",
    "\n",
    "\n",
    "# 튜플 값을 변경하기\n",
    "num_tuples = list(num_tuples)\n",
    "num_tuples[0] = 0\n",
    "num_tuples = tuple(num_tuples)\n",
    "print(num_tuples)\n",
    "\n",
    "# 튜플 사용하는 이유\n",
    "#1. Faster (자료를 탐색할 때는 튜플이 속도가 더 빠릅니다)\n",
    "#2. Safer (자료를 보호하고 싶을 때는 변경하지 못하는 튜플이 더 좋습니다)\n",
    "#3. Dictionary Usage (Key에 리스트는 못 넣지만, 튜플은 가능합니다)"
   ]
  },
  {
   "cell_type": "markdown",
   "id": "afraid-election",
   "metadata": {},
   "source": [
    "#### 2. Sets (세트)"
   ]
  },
  {
   "cell_type": "code",
   "execution_count": 32,
   "id": "desperate-islam",
   "metadata": {},
   "outputs": [
    {
     "name": "stdout",
     "output_type": "stream",
     "text": [
      "{'walnut'}\n",
      "{'apple', 'almond', 'walnut', 'banana', 'peanut'}\n"
     ]
    }
   ],
   "source": [
    "nums = {1,2,3,4,5}\n",
    "\n",
    "# nums[1] # 세트는 순서가 없기 때문에 자료 탐색이 불가능합니다!\n",
    "\n",
    "group_1 = {'apple', 'banana', 'walnut'}\n",
    "group_2 = {'walnut', 'almond', 'peanut'}\n",
    "\n",
    "print(group_1.intersection(group_2)) # 교집합\n",
    "print(group_1.union(group_2)) # 합집합\n",
    "\n",
    "#다른 자료 구조들 중 Set의 장점은 다음과 같습니다.\n",
    "\n",
    "#1. 효율적으로 반복되는 자료 제거\n",
    "#2. 교집합 (Intersection), 합집합 (Union) 계산\n",
    "#3. Dictionary Usage: Dictionary의 구조는 set를 따르고 있습니다"
   ]
  },
  {
   "cell_type": "markdown",
   "id": "supposed-snowboard",
   "metadata": {},
   "source": [
    "#### 3. Dictionaries"
   ]
  },
  {
   "cell_type": "code",
   "execution_count": 33,
   "id": "fleet-empire",
   "metadata": {},
   "outputs": [
    {
     "name": "stdout",
     "output_type": "stream",
     "text": [
      "7\n",
      "['A', 'B', 'O', 'AB']\n",
      "[14, 10, 7, 3]\n"
     ]
    }
   ],
   "source": [
    "blood_type = {'A': 14, 'B' : 10, 'O' : 7, 'AB' : 3 } # Key : Value 형식\n",
    "\n",
    "print(blood_type['O']) # 자료 찾기\n",
    "print(list(blood_type.keys())) # Key 만 모으기\n",
    "print(list(blood_type.values())) # Value 만 모으기\n",
    "\n",
    "\n",
    "# Dictionary는 빠릅니다. 어떤 구조를 사용해야 할 때 웬만해서 dictionary 쓰는것을 추천합니다"
   ]
  },
  {
   "cell_type": "markdown",
   "id": "happy-unemployment",
   "metadata": {},
   "source": [
    "<a id='week5cell'></a>\n",
    "# Week 5"
   ]
  },
  {
   "cell_type": "markdown",
   "id": "green-enlargement",
   "metadata": {},
   "source": [
    "#### 1. Lambda Function (익명 함수)"
   ]
  },
  {
   "cell_type": "code",
   "execution_count": 35,
   "id": "outside-synthesis",
   "metadata": {},
   "outputs": [
    {
     "name": "stdout",
     "output_type": "stream",
     "text": [
      "6\n",
      "1009\n"
     ]
    }
   ],
   "source": [
    "# lambda (변수) : (변수를 어떻게 대할건지 내용)\n",
    "\n",
    "add_one = lambda a : a + 1\n",
    "\n",
    "print(add_one(5))\n",
    "\n",
    "add_three = lambda a, b, c: a + b + c\n",
    "\n",
    "print(add_three(700, 300 , 9)) "
   ]
  },
  {
   "cell_type": "markdown",
   "id": "developing-medline",
   "metadata": {},
   "source": [
    "#### 2. Map Function"
   ]
  },
  {
   "cell_type": "code",
   "execution_count": 39,
   "id": "secure-container",
   "metadata": {},
   "outputs": [
    {
     "name": "stdout",
     "output_type": "stream",
     "text": [
      "[2, 4, 6, 8, 10]\n",
      "[2, 4, 6, 8, 10]\n",
      "[1, 2]\n"
     ]
    }
   ],
   "source": [
    "# map (함수, 함수에 넣을 리스트)\n",
    "\n",
    "one_to_five = [1,2,3,4,5]\n",
    "\n",
    "def double(x):\n",
    "    return x + x\n",
    "\n",
    "result = map(double, one_to_five) \n",
    "print(list(result))\n",
    "\n",
    "result2 = map(lambda a: a+a, one_to_five)\n",
    "print(list(result2))\n",
    "\n",
    "# Filter를 이용하면 함수 부분에 참에 해당되는 내용만 리스트에서 걸러냅니다\n",
    "result3 = filter(lambda a: a<3, one_to_five)\n",
    "print(list(result3))"
   ]
  },
  {
   "cell_type": "markdown",
   "id": "empty-intellectual",
   "metadata": {},
   "source": [
    "#### 3. Classes (1/2)"
   ]
  },
  {
   "cell_type": "code",
   "execution_count": 40,
   "id": "drawn-fleece",
   "metadata": {},
   "outputs": [
    {
     "name": "stdout",
     "output_type": "stream",
     "text": [
      "Coco입니다멍!\n"
     ]
    }
   ],
   "source": [
    "class Puppy(): # Class를 만드는 줄입니다\n",
    "    \n",
    "    def __init__(self, name, breed, has_tail): # 하나의 instance를 만드는데 특성을 지정할 수 있게 해주는 init 함수입니다\n",
    "        \n",
    "        self.name = name # 이름 특성을 저장합니다\n",
    "        self.breed = breed\n",
    "        self.has_tail = has_tail\n",
    "        \n",
    "    def speak(self): # Class 안에 함수를 만들면 Method이라고 부릅니다\n",
    "        print(self.name + \"입니다멍!\")\n",
    "\n",
    "Coco = Puppy(name = \"Coco\", breed = \"Poodle\", has_tail = True) # 하나의 instance를 만듭니다\n",
    "Coco.speak()"
   ]
  },
  {
   "cell_type": "markdown",
   "id": "reasonable-division",
   "metadata": {},
   "source": [
    "<a id='week6cell'></a>\n",
    "# Week 6"
   ]
  },
  {
   "cell_type": "markdown",
   "id": "unlikely-housing",
   "metadata": {},
   "source": [
    "#### 1. Classes (2/2)"
   ]
  },
  {
   "cell_type": "code",
   "execution_count": 43,
   "id": "arranged-royalty",
   "metadata": {},
   "outputs": [
    {
     "name": "stdout",
     "output_type": "stream",
     "text": [
      "Seung Hwan\n",
      "False\n",
      "Steven\n",
      "True\n"
     ]
    }
   ],
   "source": [
    "class Person(object):\n",
    "    \n",
    "    def __init__(self, name):\n",
    "        self.name = name\n",
    "   \n",
    "    def getName(self):\n",
    "        return self.name\n",
    "   \n",
    "    def isEmployee(self):\n",
    "        return False\n",
    "\n",
    "class Employee(Person): # Person 이라는 Class의 특성과 Method를 받는 Child Class Employee입니다 \n",
    "   \n",
    "    def isEmployee(self): # Child Class에 같은 이름의 Method 함수가 있을 때, 덮어 씌웁니다!\n",
    "        return True\n",
    "    \n",
    "e1 = Person(\"Seung Hwan\")\n",
    "print(e1.getName())\n",
    "print(e1.isEmployee())\n",
    "e2 = Employee(\"Steven\")\n",
    "print(e2.getName()) # Parent class의 특성을 받았습니다\n",
    "print(e2.isEmployee()) # Employee class의 함수를 이용합니다"
   ]
  },
  {
   "cell_type": "code",
   "execution_count": null,
   "id": "global-morocco",
   "metadata": {},
   "outputs": [],
   "source": []
  }
 ],
 "metadata": {
  "kernelspec": {
   "display_name": "Python 3 (ipykernel)",
   "language": "python",
   "name": "python3"
  },
  "language_info": {
   "codemirror_mode": {
    "name": "ipython",
    "version": 3
   },
   "file_extension": ".py",
   "mimetype": "text/x-python",
   "name": "python",
   "nbconvert_exporter": "python",
   "pygments_lexer": "ipython3",
   "version": "3.8.3"
  }
 },
 "nbformat": 4,
 "nbformat_minor": 5
}
