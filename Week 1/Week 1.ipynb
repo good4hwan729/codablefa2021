{
 "cells": [
  {
   "cell_type": "markdown",
   "metadata": {},
   "source": [
    "# 파이선 러닝 1주차 : 입문 및 기본 개념"
   ]
  },
  {
   "cell_type": "markdown",
   "metadata": {},
   "source": [
    "## 1. print() 문\n",
    "\n",
    "어느 코딩 언어가 그렇듯, 인사부터 하는 것이 첫걸음입니다!\n",
    "\n",
    "**print()** 를 이용하면 무엇이든 출력할 수 있습니다."
   ]
  },
  {
   "cell_type": "code",
   "execution_count": null,
   "metadata": {
    "collapsed": true
   },
   "outputs": [],
   "source": [
    "print(\"Hello, world!\")"
   ]
  },
  {
   "cell_type": "code",
   "execution_count": null,
   "metadata": {
    "collapsed": true
   },
   "outputs": [],
   "source": [
    "print(\"안녕, 세상!\")\n",
    "print(1)\n",
    "print(729)"
   ]
  },
  {
   "cell_type": "markdown",
   "metadata": {},
   "source": [
    "## 2. 주석 달기 (Comment)\n",
    "\n",
    "파이선에서는 앞에 '**#**'를 붙이면 무조건 주석이 됩니다!"
   ]
  },
  {
   "cell_type": "code",
   "execution_count": null,
   "metadata": {
    "collapsed": true
   },
   "outputs": [],
   "source": [
    "# 주석\n",
    "######## 이것도 주석\n",
    "# 이 # 것 # 도 # 주 # 석 #"
   ]
  },
  {
   "cell_type": "markdown",
   "metadata": {},
   "source": [
    "주석의 역할은 크게 세 가지가 있습니다.\n",
    "\n",
    "**1. 코드에 대한 간단한 설명**"
   ]
  },
  {
   "cell_type": "code",
   "execution_count": null,
   "metadata": {
    "collapsed": true
   },
   "outputs": [],
   "source": [
    "import numpy as np\n",
    "\n",
    "# 오늘 저녁 메뉴를 고르는 함수입니다. 코드 자체는 지금 이해 안하셔도 됩니다.\n",
    "def choose_dinner():\n",
    "    options = ['한식', '양식', '중식', '일식', '베트남식', '간식', '금식']\n",
    "        \n",
    "    decision = np.random.randint(7)\n",
    "    \n",
    "    print(\"오늘 저녁은 \" + options[decision] + \"을 추천드려요!\")\n",
    "    \n",
    "choose_dinner()"
   ]
  },
  {
   "cell_type": "markdown",
   "metadata": {},
   "source": [
    "**2. 코드의 무효화**"
   ]
  },
  {
   "cell_type": "code",
   "execution_count": null,
   "metadata": {
    "collapsed": true
   },
   "outputs": [],
   "source": [
    "print(0)\n",
    "# print(2)\n",
    "print(7)\n",
    "# print(4)\n",
    "print(2)\n",
    "# print(6)\n",
    "print(9)\n",
    "# print(11)"
   ]
  },
  {
   "cell_type": "markdown",
   "metadata": {},
   "source": [
    "**3. 간단한 메모**"
   ]
  },
  {
   "cell_type": "code",
   "execution_count": null,
   "metadata": {
    "collapsed": true
   },
   "outputs": [],
   "source": [
    "# 오늘 음료 메뉴를 고르는 함수입니다. 코드 자체는 지금 이해 안하셔도 됩니다.\n",
    "def choose_drink():\n",
    "    \n",
    "    options = [] # TODO: 마실거 골라야 하는데 아직 선택지를 작성 못함. 대신 작성 해주세요\n",
    "        \n",
    "    decision = np.random.randint(len(options)) # 윗줄 작성 제대로 안해서 여기에서 에러가 뜨네요...\n",
    "    \n",
    "    print(\"오늘 음료는 \" + options[decision] + \"을 추천드려요!\") # 피곤해\n",
    "\n",
    "choose_drink()    "
   ]
  },
  {
   "cell_type": "markdown",
   "metadata": {},
   "source": [
    "## 3. 변수 쓰기 (Variable)\n",
    "\n",
    "변수는 **(이름) = (값)** 형식으로 정의 하면 끝입니다!"
   ]
  },
  {
   "cell_type": "code",
   "execution_count": null,
   "metadata": {
    "collapsed": true
   },
   "outputs": [],
   "source": [
    "a = 2\n",
    "A = 5\n",
    "b = 3\n",
    "birthday = 729\n",
    "name = \"Steven\"     #'Steven'과 동일\n",
    "\n",
    "print(name)\n",
    "print(birthday)\n",
    "print(A, b)\n",
    "print(a, b)"
   ]
  },
  {
   "cell_type": "markdown",
   "metadata": {},
   "source": [
    "변수 값이나 종류는 언제든지 바꿔도 무관합니다."
   ]
  },
  {
   "cell_type": "code",
   "execution_count": null,
   "metadata": {
    "collapsed": true
   },
   "outputs": [],
   "source": [
    "a = 2\n",
    "b = 45\n",
    "print(a)\n",
    "a = 3\n",
    "print(a)\n",
    "a = '순댓국'\n",
    "print(a)\n",
    "a = b\n",
    "print(a)"
   ]
  },
  {
   "cell_type": "markdown",
   "metadata": {},
   "source": [
    "type()을 이용하면 변수의 종류도 확인할 수 있습니다."
   ]
  },
  {
   "cell_type": "code",
   "execution_count": null,
   "metadata": {
    "collapsed": true
   },
   "outputs": [],
   "source": [
    "a = 2\n",
    "print(type(a))\n",
    "a = 2.0\n",
    "print(type(a))\n",
    "a = \"two\"\n",
    "print(type(a))\n",
    "a = True\n",
    "print(type(a))"
   ]
  },
  {
   "cell_type": "markdown",
   "metadata": {},
   "source": [
    "### 과제 1"
   ]
  },
  {
   "cell_type": "code",
   "execution_count": null,
   "metadata": {
    "collapsed": true
   },
   "outputs": [],
   "source": [
    "a = '하나'\n",
    "b = '둘'\n",
    "\n",
    "# a 와 b 의 값을 바꾸세요! 단, a = '둘' b = '하나' 를 사용하시면 안됩니다. 변수는 더 만들어도 무관합니다.\n",
    "\n",
    "# YOUR CODE HERE #\n",
    "\n",
    "# END OF CODE #\n",
    "\n",
    "print('a의 값은', a, '입니다')\n",
    "print('b의 값은', b, '입니다')"
   ]
  },
  {
   "cell_type": "markdown",
   "metadata": {},
   "source": [
    "## 4. 기본 작업 (Basic Operations)\n",
    "\n",
    "흔하게 접하는 산수/비교/참거짓 작업"
   ]
  },
  {
   "cell_type": "markdown",
   "metadata": {},
   "source": [
    "\\[ +, -, *, /, //, ***, % ] 부호들을 이용하여 산수 작업을 할 수 있습니다.\n",
    "\n",
    "[ >, >=, <, <= ] 부호들을 이용하여 비교 작업을 할 수 있습니다."
   ]
  },
  {
   "cell_type": "code",
   "execution_count": 10,
   "metadata": {},
   "outputs": [
    {
     "name": "stdout",
     "output_type": "stream",
     "text": [
      "10\n"
     ]
    }
   ],
   "source": [
    "a = 8\n",
    "b = 2\n",
    "\n",
    "print(a + b) # 여기 기호를 자유롭게 바꿔서 결과를 확인하세요!"
   ]
  },
  {
   "cell_type": "markdown",
   "metadata": {},
   "source": [
    "[ +=, -=, *=, /= ] 조합으로 양을 조금이나마 줄일 수 있습니다."
   ]
  },
  {
   "cell_type": "code",
   "execution_count": null,
   "metadata": {
    "collapsed": true
   },
   "outputs": [],
   "source": [
    "print(a)\n",
    "\n",
    "a += 3         # a = a + 3 (부호를 바꿔서 결과를 확인하세요!)\n",
    "\n",
    "print(a)"
   ]
  },
  {
   "cell_type": "markdown",
   "metadata": {},
   "source": [
    "[and, or, not] 을 이용하여 참거짓 연산을 할 수 있습니다.\n",
    "\n",
    "[==, !=] 을 이용하여 식의 참거짓 연산도 할 수 있습니다."
   ]
  },
  {
   "cell_type": "code",
   "execution_count": 8,
   "metadata": {},
   "outputs": [
    {
     "name": "stdout",
     "output_type": "stream",
     "text": [
      "True\n",
      "False\n",
      "True\n",
      "False\n",
      "True\n",
      "False\n",
      "True\n"
     ]
    }
   ],
   "source": [
    "A = True\n",
    "B = False\n",
    "C = (1 + 1 == 2)\n",
    "D = (2 + 2 != 4)\n",
    "\n",
    "print(A and A)\n",
    "print(A and B)\n",
    "print(C)\n",
    "print(D)\n",
    "print(A or B)\n",
    "print(not A)\n",
    "print(C and not D)"
   ]
  },
  {
   "cell_type": "code",
   "execution_count": 4,
   "metadata": {},
   "outputs": [
    {
     "name": "stdout",
     "output_type": "stream",
     "text": [
      "True\n"
     ]
    }
   ],
   "source": [
    "print(not not not not not not True)"
   ]
  },
  {
   "cell_type": "code",
   "execution_count": null,
   "metadata": {
    "collapsed": true
   },
   "outputs": [],
   "source": []
  }
 ],
 "metadata": {
  "kernelspec": {
   "display_name": "Python 3",
   "language": "python",
   "name": "python3"
  },
  "language_info": {
   "codemirror_mode": {
    "name": "ipython",
    "version": 3
   },
   "file_extension": ".py",
   "mimetype": "text/x-python",
   "name": "python",
   "nbconvert_exporter": "python",
   "pygments_lexer": "ipython3",
   "version": "3.6.3"
  }
 },
 "nbformat": 4,
 "nbformat_minor": 2
}
