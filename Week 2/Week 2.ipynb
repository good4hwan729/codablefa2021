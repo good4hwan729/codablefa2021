{
 "cells": [
  {
   "cell_type": "markdown",
   "metadata": {},
   "source": [
    "# 파이선 러닝 2주차 : if, loops & lists"
   ]
  },
  {
   "cell_type": "markdown",
   "metadata": {},
   "source": [
    "## 1. if / elif / else 문 사용하기\n",
    "\n",
    "코드를 특정한 상황에서만 진행되도록 하고 싶으면 if 문을 쓰시면 됩니다!"
   ]
  },
  {
   "cell_type": "code",
   "execution_count": null,
   "metadata": {
    "collapsed": true
   },
   "outputs": [],
   "source": [
    "a = 10\n",
    "\n",
    "if a > 5:\n",
    "    print(\"숫자가 커요\")"
   ]
  },
  {
   "cell_type": "markdown",
   "metadata": {},
   "source": [
    "만약 고려하고 싶은 상황이 2개 또는 3개 이상이면 elif (else if)  과 else 문까지 사용하시면 됩니다."
   ]
  },
  {
   "cell_type": "code",
   "execution_count": null,
   "metadata": {
    "collapsed": true
   },
   "outputs": [],
   "source": [
    "a = 8\n",
    "\n",
    "if a == 5:                      # 상황 1\n",
    "    print(\"사과\")\n",
    "    \n",
    "elif 5 < a < 10:           # 상황 1이 안나온다면, 상황 2 고려\n",
    "    print(\"바나나\")\n",
    "\n",
    "else:                            # 그것마저 안된다면, 무조건 상황 3\n",
    "    print(\"거봉\")"
   ]
  },
  {
   "cell_type": "markdown",
   "metadata": {},
   "source": [
    "### 과제 1\n",
    "\n",
    "number 의 값을 가지고, 만약 number 가 3의 배수 이면 그대로 출력하고, 3으로 나눈 나머지가 1이면 number의 제곱근을, 2이면 number의 제곱을 출력하는 if else 문을 작성하세요."
   ]
  },
  {
   "cell_type": "code",
   "execution_count": null,
   "metadata": {
    "collapsed": true
   },
   "outputs": [],
   "source": [
    "number = 117649\n",
    "\n",
    "# YOUR CODE HERE #\n",
    "\n",
    "# END OF CODE #"
   ]
  },
  {
   "cell_type": "markdown",
   "metadata": {},
   "source": [
    "if 문은 중첩이 될 수도 있습니다. 즉, if 문 안에 if/else 문이 들어 갈수 있으며, 이는 무한히 반복 할 수 있습니다. 여기서 중요한건 indentation 을 이용하여 각각의 if/else 문의 위치를 설정하는 것입니다!"
   ]
  },
  {
   "cell_type": "code",
   "execution_count": null,
   "metadata": {},
   "outputs": [],
   "source": [
    "x = 10\n",
    "\n",
    "if x > 2:\n",
    "    print(\"One\")\n",
    "    \n",
    "    if x > 4:\n",
    "        print(\"Two\")\n",
    "        \n",
    "        if x > 6:\n",
    "            print(\"Three\")\n",
    "            \n",
    "            if x > 8:\n",
    "                print(\"Four\")\n",
    "                \n",
    "                if x > 10:\n",
    "                    print(\"Five\")\n",
    "                \n",
    "                else:\n",
    "                    print(\"Six\")"
   ]
  },
  {
   "cell_type": "markdown",
   "metadata": {},
   "source": [
    "## 2. for / while 문 사용하기\n",
    "\n",
    "코드를 어느 특정 기간동안 실행시키고 싶다면 for 루프를 사용하시면 됩니다!"
   ]
  },
  {
   "cell_type": "code",
   "execution_count": null,
   "metadata": {},
   "outputs": [],
   "source": [
    "# for x in y:     x : iterator, y : iterated\n",
    "        # <code>\n",
    "\n",
    "for i in range(10):\n",
    "    print(i)"
   ]
  },
  {
   "cell_type": "code",
   "execution_count": null,
   "metadata": {},
   "outputs": [],
   "source": [
    "for j in range(1, 7):\n",
    "    print(j * 2)"
   ]
  },
  {
   "cell_type": "code",
   "execution_count": null,
   "metadata": {},
   "outputs": [],
   "source": [
    "for k in range(1, 10, 2):\n",
    "    print(k**2)"
   ]
  },
  {
   "cell_type": "code",
   "execution_count": null,
   "metadata": {},
   "outputs": [],
   "source": [
    "for seunghwan in range(20, 1, -1):\n",
    "    print(seunghwan)"
   ]
  },
  {
   "cell_type": "markdown",
   "metadata": {},
   "source": [
    "만약 코드를 어떠한 조건이 충족 될 때까지 반복해서 실행 시키고 싶다면 while 루프를 사용하시면 됩니다!"
   ]
  },
  {
   "cell_type": "code",
   "execution_count": 1,
   "metadata": {},
   "outputs": [
    {
     "name": "stdout",
     "output_type": "stream",
     "text": [
      "1\n",
      "2\n",
      "3\n",
      "4\n",
      "5\n",
      "6\n",
      "7\n",
      "8\n",
      "9\n",
      "10\n"
     ]
    }
   ],
   "source": [
    "# while <condition>:\n",
    "        # <code>\n",
    "\n",
    "x = 0\n",
    "\n",
    "while x < 10:    #x가 10보다 작을 때에만 해당 코드를 실행하고, 10보다 같거나 크면 루프를 빠져나갑니다\n",
    "    x += 1\n",
    "    print(x)"
   ]
  },
  {
   "cell_type": "markdown",
   "metadata": {},
   "source": [
    "for 문 과 while 문은 서로 교환 가능한 경우가 많습니다"
   ]
  },
  {
   "cell_type": "code",
   "execution_count": 3,
   "metadata": {},
   "outputs": [
    {
     "name": "stdout",
     "output_type": "stream",
     "text": [
      "for 문 예시\n",
      "0\n",
      "1\n",
      "2\n",
      "3\n",
      "4\n",
      "while 문 예시\n",
      "0\n",
      "1\n",
      "2\n",
      "3\n",
      "4\n"
     ]
    }
   ],
   "source": [
    "print(\"for 문 예시\")\n",
    "for i in range(5):\n",
    "    print(i)\n",
    "\n",
    "print(\"while 문 예시\")\n",
    "j = 0\n",
    "while j < 5:\n",
    "    print(j)\n",
    "    j += 1"
   ]
  },
  {
   "cell_type": "markdown",
   "metadata": {},
   "source": [
    "### 과제 2\n",
    "\n",
    "1 부터 100까지 숫자 중에 7의 배수이면서 5의 배수인 숫자를 출력하시요."
   ]
  },
  {
   "cell_type": "code",
   "execution_count": null,
   "metadata": {
    "collapsed": true
   },
   "outputs": [],
   "source": [
    "# for 문을 이용\n",
    "\n",
    "    # YOUR CODE HERE #\n",
    "    \n",
    "    # END OF CODE #\n",
    "\n",
    "# while 문을 이용\n",
    "\n",
    "    # YOUR CODE HERE #\n",
    "    \n",
    "    # END OF CODE #"
   ]
  },
  {
   "cell_type": "markdown",
   "metadata": {},
   "source": [
    "## 3. list 구조\n",
    "\n",
    "리스트는 파이선에서 다루는 자료형 중에서 제일 기본이 되는 구조입니다!"
   ]
  },
  {
   "cell_type": "code",
   "execution_count": 14,
   "metadata": {},
   "outputs": [
    {
     "name": "stdout",
     "output_type": "stream",
     "text": [
      "3\n",
      "durian\n",
      "6\n"
     ]
    }
   ],
   "source": [
    "# (이름) = [(자료)]\n",
    "\n",
    "empty_list = []     # 자료가 없으면 그대로 빈 상태의 리스트를 만들 수 있습니다.\n",
    "\n",
    "number_list = [1, 2, 3, 4, 5]\n",
    "\n",
    "string_list = [\"apple\", \"banana\", \"tomato\", \"durian\"]\n",
    "\n",
    "mix_list = [1, \"apple\", True, 2.45]\n",
    "\n",
    "# 자료를 선택 하고 싶으면 (이름)[좌표] 형식으로 찾으면 됩니다\n",
    "\n",
    "print(number_list[2])\n",
    "\n",
    "# 좌표가 음수일 경우 리스트의 뒤에서 부터 선택됩니다\n",
    "\n",
    "print(string_list[-1])\n",
    "\n",
    "# 리스트 안에 리스트가 존재 할 수도 있습니다\n",
    "\n",
    "list_in_list = [[1, 2], [3, 4], [5, 6]]\n",
    "\n",
    "print(list_in_list[2][1])     # 리스트 안에 리스트를 접속하기 위해서는 좌표를 두번 이상 지정해야 합니다"
   ]
  },
  {
   "cell_type": "markdown",
   "metadata": {},
   "source": [
    "for 문을 이용하여 리스트를 만들 수도 있습니다"
   ]
  },
  {
   "cell_type": "code",
   "execution_count": 8,
   "metadata": {},
   "outputs": [
    {
     "name": "stdout",
     "output_type": "stream",
     "text": [
      "list_1 [1, 2, 3, 4, 5]\n",
      "list_2 [1, 2, 3, 4, 5]\n"
     ]
    }
   ],
   "source": [
    "list_1  = [1, 2, 3, 4, 5]\n",
    "print(\"list_1\", list_1)\n",
    "\n",
    "list_2 = [i for i in range(1, 6)]\n",
    "print(\"list_2\", list_2)"
   ]
  },
  {
   "cell_type": "markdown",
   "metadata": {},
   "source": [
    "리스트의 자료를 탐색하고 싶으면 for 문을 이용할 수 있습니다"
   ]
  },
  {
   "cell_type": "code",
   "execution_count": 10,
   "metadata": {},
   "outputs": [
    {
     "name": "stdout",
     "output_type": "stream",
     "text": [
      "1\n",
      "6\n",
      "2\n",
      "7\n",
      "194958\n"
     ]
    }
   ],
   "source": [
    "list_x = [ 1, 6, 2 ,7 , 194958]\n",
    "\n",
    "for i in list_x:\n",
    "    print(i)"
   ]
  },
  {
   "cell_type": "markdown",
   "metadata": {},
   "source": [
    "리스트의 길이를 알고 싶으면 len((이름))을 이용하시면 됩니다"
   ]
  },
  {
   "cell_type": "code",
   "execution_count": 12,
   "metadata": {},
   "outputs": [
    {
     "name": "stdout",
     "output_type": "stream",
     "text": [
      "5\n"
     ]
    }
   ],
   "source": [
    "print(len(list_x))"
   ]
  },
  {
   "cell_type": "code",
   "execution_count": null,
   "metadata": {
    "collapsed": true
   },
   "outputs": [],
   "source": []
  }
 ],
 "metadata": {
  "kernelspec": {
   "display_name": "Python 3",
   "language": "python",
   "name": "python3"
  },
  "language_info": {
   "codemirror_mode": {
    "name": "ipython",
    "version": 3
   },
   "file_extension": ".py",
   "mimetype": "text/x-python",
   "name": "python",
   "nbconvert_exporter": "python",
   "pygments_lexer": "ipython3",
   "version": "3.6.3"
  }
 },
 "nbformat": 4,
 "nbformat_minor": 2
}
