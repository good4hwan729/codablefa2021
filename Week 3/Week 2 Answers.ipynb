{
 "cells": [
  {
   "cell_type": "markdown",
   "id": "blocked-humanity",
   "metadata": {},
   "source": [
    "# 숙제\n",
    "\n",
    "#### 여기 리스트 mixed_numbers 가 주어져 있습니다. 이 리스트에 있는 한 자리 숫자 중 가장 자주 나타나는 숫자와 그 숫자가 총 몇번 나타나는지를 구하여 리턴 하십시오."
   ]
  },
  {
   "cell_type": "code",
   "execution_count": null,
   "id": "fifteen-economics",
   "metadata": {},
   "outputs": [],
   "source": [
    "# 도움 : (리스트이름).sort() 를 이용하면 리스트를 오름차순으로 재배열 할 수 있습니다\n",
    "\n",
    "example_list = [3, 2, 4, 5, 1]\n",
    "example_list.sort()\n",
    "print(example_list)"
   ]
  },
  {
   "cell_type": "markdown",
   "id": "fleet-petite",
   "metadata": {},
   "source": [
    "본 문제는 지금까지 배운 내용 + 위의 도움으로만 해결해야 하며, 주어진 변수 정보만 사용해야 합니다. 원활한 코딩을 위해 풀이 방향도 제시하니 참고 해주시기 바랍니다. 화이팅!\n",
    "\n",
    "풀이 과정:\n",
    "\n",
    "1. 리스트를 재배열 합니다\n",
    "2. for 문으로 각 숫자를 보고,\n",
    "3. 현재 보고 있는 숫자가 현재 세고 있는 숫자 (curr_num) 면 (if), count 값을 늘립니다\n",
    "4. 현재 보고 있는 숫자가 현재 세고 있는 숫자 (curr_num) 와 다르다면 (else),\n",
    "5. count가 현 max_count 보다 큰지 확인하여 max_count과 most_freq_num를 업데이트 합니다.\n",
    "6. 다음 숫자를 세기 전, curr_num 과 count 를 업데이트 합니다."
   ]
  },
  {
   "cell_type": "code",
   "execution_count": 6,
   "id": "terminal-clone",
   "metadata": {},
   "outputs": [
    {
     "name": "stdout",
     "output_type": "stream",
     "text": [
      "가장 자주 나타나는 숫자는  4 이며, 그 숫자는 총  6 번 나타납니다.\n"
     ]
    }
   ],
   "source": [
    "def most_frequent_number():\n",
    "    \n",
    "    #정보\n",
    "    count = 0 # 현재 세고 있는 숫자가 몇 번 나타나는지 확인하는 변수입니다.\n",
    "    curr_num = 0 # 현재 세고 있는 숫자입니다. 만약 리스트 자료를 보는 중 해당 숫자를 다 셌으면 이 변수를 변경하십시오.\n",
    "    most_freq_num = 0 # 가장 자주 나타나는 숫자를 찾을 때 이 변수 값에 저장하십시오.\n",
    "    max_count = 0 # 가장 자주 나타나는 숫자가 몇 번 나오는지 저장하십시오. \n",
    "    \n",
    "    mixed_numbers = [1, 5, 2, 6,  1, 6, 3, 4, 7, 4, 2, 8, 4, 7, 9, 3, 4, 7, 5, 6, 9, 1, 3, 2, 5, 6, 3, 5, 4, 7, 9, 8, 4, 5, 0, 2, 1] \n",
    "    \n",
    "    # YOUR CODE HERE #\n",
    "    mixed_numbers.sort()\n",
    "    \n",
    "    for i in mixed_numbers:\n",
    "        if i == curr_num:\n",
    "            count += 1\n",
    "        else:\n",
    "            if count >  max_count:\n",
    "                max_count = count\n",
    "                most_freq_num = curr_num\n",
    "\n",
    "            curr_num += 1\n",
    "            count = 1\n",
    "\n",
    "    # END OF CODE #\n",
    "    return most_freq_num, max_count\n",
    "\n",
    "# 정답 확인\n",
    "print(\"가장 자주 나타나는 숫자는 \", most_frequent_number()[0], \"이며, 그 숫자는 총 \", most_frequent_number()[1], \"번 나타납니다.\")"
   ]
  },
  {
   "cell_type": "markdown",
   "id": "promising-license",
   "metadata": {},
   "source": [
    "만약 정답 확인 했을 때 4, 6 가 나온다면 이번 숙제를 완성하셨습니다!"
   ]
  },
  {
   "cell_type": "code",
   "execution_count": null,
   "id": "impossible-evans",
   "metadata": {},
   "outputs": [],
   "source": []
  }
 ],
 "metadata": {
  "kernelspec": {
   "display_name": "Python 3 (ipykernel)",
   "language": "python",
   "name": "python3"
  },
  "language_info": {
   "codemirror_mode": {
    "name": "ipython",
    "version": 3
   },
   "file_extension": ".py",
   "mimetype": "text/x-python",
   "name": "python",
   "nbconvert_exporter": "python",
   "pygments_lexer": "ipython3",
   "version": "3.8.3"
  }
 },
 "nbformat": 4,
 "nbformat_minor": 5
}
