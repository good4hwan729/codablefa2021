{
 "cells": [
  {
   "cell_type": "markdown",
   "id": "apart-mixer",
   "metadata": {},
   "source": [
    "# 숙제 1"
   ]
  },
  {
   "cell_type": "markdown",
   "id": "advisory-wrestling",
   "metadata": {},
   "source": [
    "숫자가 들어있는 리스트가 주어질 때, 리스트 안에 있는 두 개의 숫자를 더하여 합이 target 의 값과 일치하도록 만들 수 있는지 확인하고, 가능하다면 그 두 숫자를 리턴하면 됩니다. 만약 가능한 조합이 없으면 0을 리턴하게 만드십시오.\n",
    "\n",
    "예를 들어, 리스트가 [2, 7, 11, 15] 이고 target 값이 9이면, 함수는 2와 7을 리턴해야합니다.\n",
    "\n",
    "만약 target 값이 10이면, 가능한 조합이 없으므로 0을 리턴합니다."
   ]
  },
  {
   "cell_type": "code",
   "execution_count": 11,
   "id": "competitive-smoke",
   "metadata": {},
   "outputs": [],
   "source": [
    "def twoNumSum(num_list, target):\n",
    "    \n",
    "    ### YOUR CODE HERE ###\n",
    "    for i in range(len(num_list)):\n",
    "        if target - num_list[i] in num_list[i+1:]:\n",
    "            return num_list[i], target-num_list[i]\n",
    "\n",
    "    ### END OF CODE ###\n",
    "    return 0# 해당 줄을 바꾸셔도 상관없습니다. 그냥 있는 줄입니다."
   ]
  },
  {
   "cell_type": "markdown",
   "id": "unavailable-radical",
   "metadata": {},
   "source": [
    "#### 코드 확인하기"
   ]
  },
  {
   "cell_type": "code",
   "execution_count": 12,
   "id": "handed-lambda",
   "metadata": {},
   "outputs": [
    {
     "name": "stdout",
     "output_type": "stream",
     "text": [
      "TEST 1: [2,7,11,15] target 9\n",
      "PASSED TEST 1\n",
      "TEST 2: [2,7,11,15] target 10\n",
      "PASSED TEST 2\n"
     ]
    }
   ],
   "source": [
    "example_list = [2, 7, 11, 15]\n",
    "\n",
    "print(\"TEST 1: [2,7,11,15] target 9\")\n",
    "if twoNumSum(example_list, 9) == (2, 7):\n",
    "    print(\"PASSED TEST 1\")\n",
    "else:\n",
    "    print(\"FAILED TEST 1\")\n",
    "print(\"TEST 2: [2,7,11,15] target 10\")\n",
    "if twoNumSum(example_list, 10) == 0:\n",
    "    print(\"PASSED TEST 2\")\n",
    "else:\n",
    "    print(\"FAILED TEST 2\")"
   ]
  },
  {
   "cell_type": "markdown",
   "id": "permanent-western",
   "metadata": {},
   "source": [
    "# 숙제 2 (조금 더 어려움)\n",
    "\n",
    "숫자가 들어있는 리스트가 주어질 때, 리스트 안에 있는 **세 개의 숫자**를 더하여 합이 target 의 값과 일치하도록 만들 수 있는지 확인하고, 가능하다면 그 세 숫자를 리턴하면 됩니다. 만약 가능한 조합이 없으면 0을 리턴하게 만드십시오.\n",
    "\n",
    "예를 들어, 리스트가 [2, 7, 11, 15] 이고 target 값이 20이면, 함수는 2, 7, 11을 리턴해야합니다.\n",
    "\n",
    "만약 target 값이 10이면, 가능한 조합이 없으므로 0을 리턴합니다."
   ]
  },
  {
   "cell_type": "code",
   "execution_count": 15,
   "id": "municipal-advance",
   "metadata": {},
   "outputs": [],
   "source": [
    "def threeNumSum(num_list, target):\n",
    "    \n",
    "    ### YOUR CODE HERE ###\n",
    "    for i in range(len(num_list)):\n",
    "        twosum = target - num_list[i]\n",
    "        for j in range(len(num_list[i+1:])):\n",
    "            if twosum - num_list[j] in num_list[j+1:]:\n",
    "                return num_list[i], num_list[j], twosum - num_list[j]\n",
    "    \n",
    "    \n",
    "    ### END OF CODE ###\n",
    "    return 0# 해당 줄을 바꾸셔도 상관없습니다. 그냥 있는 줄입니다."
   ]
  },
  {
   "cell_type": "markdown",
   "id": "selective-figure",
   "metadata": {},
   "source": [
    "#### 코드 확인하기"
   ]
  },
  {
   "cell_type": "code",
   "execution_count": 16,
   "id": "corrected-presence",
   "metadata": {},
   "outputs": [
    {
     "name": "stdout",
     "output_type": "stream",
     "text": [
      "TEST 3: [2,7,11,15] target 20\n",
      "PASSED TEST 3\n",
      "TEST 4: [2,7,11,15] target 10\n",
      "PASSED TEST 4\n"
     ]
    }
   ],
   "source": [
    "example_list = [2, 7, 11, 15]\n",
    "\n",
    "print(\"TEST 3: [2,7,11,15] target 20\")\n",
    "if threeNumSum(example_list, 20) == (2, 7, 11):\n",
    "    print(\"PASSED TEST 3\")\n",
    "else:\n",
    "    print(\"FAILED TEST 3\")\n",
    "print(\"TEST 4: [2,7,11,15] target 10\")\n",
    "if threeNumSum(example_list, 10) == 0:\n",
    "    print(\"PASSED TEST 4\")\n",
    "else:\n",
    "    print(\"FAILED TEST 4\")"
   ]
  },
  {
   "cell_type": "markdown",
   "id": "featured-magic",
   "metadata": {},
   "source": [
    "# 숙제 3 (선택) (보너스)"
   ]
  },
  {
   "cell_type": "markdown",
   "id": "grateful-mystery",
   "metadata": {},
   "source": [
    "해당 함수를 어떻게 하면 만들수 있는지 머릿속으로 생각해보고, 다음주에 자유롭게 얘기하는 자리를 가지겠습니다!\n",
    "\n",
    "혹시 도전적이시라면 코드도 만들 수 있겠지만, 숙제의 일부는 아닙니다.\n",
    "\n",
    "**\"숫자가 들어있는 리스트가 주어질 때, 리스트 안에 있는 숫자들을 더해서 (숫자의 갯수는 중요하지 않음) 합이 target 값과 일치하는지 확인 하는 함수.**\n",
    "\n",
    "**가능하다면 합을 이루는 모든 숫자들을 리턴하고, 불가능하다면 0 리턴\"**"
   ]
  },
  {
   "cell_type": "code",
   "execution_count": null,
   "id": "toxic-seller",
   "metadata": {},
   "outputs": [],
   "source": []
  }
 ],
 "metadata": {
  "kernelspec": {
   "display_name": "Python 3 (ipykernel)",
   "language": "python",
   "name": "python3"
  },
  "language_info": {
   "codemirror_mode": {
    "name": "ipython",
    "version": 3
   },
   "file_extension": ".py",
   "mimetype": "text/x-python",
   "name": "python",
   "nbconvert_exporter": "python",
   "pygments_lexer": "ipython3",
   "version": "3.8.3"
  }
 },
 "nbformat": 4,
 "nbformat_minor": 5
}
