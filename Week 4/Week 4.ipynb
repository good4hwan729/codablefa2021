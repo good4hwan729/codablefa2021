{
 "cells": [
  {
   "cell_type": "markdown",
   "id": "posted-chaos",
   "metadata": {},
   "source": [
    "# 파이선 러닝 4주차 : Tuples, Sets, and Dictionaries"
   ]
  },
  {
   "cell_type": "markdown",
   "id": "speaking-eclipse",
   "metadata": {},
   "source": [
    "### 과제 0:\n",
    "\n",
    "예상 하셨겠지만, 지난 주에 배운 내용을 복습하는 과제를 풀어볼께요!"
   ]
  },
  {
   "cell_type": "code",
   "execution_count": null,
   "id": "compact-airline",
   "metadata": {},
   "outputs": [],
   "source": [
    "number_strings = [\"일\", \"이\", \"삼\", \"사\", \"오\", \"육\", \"칠\", \"팔\", \"구\"]\n",
    "\n",
    "## 리스트의 좌표 값을 새로 정의하면 자료를 교체 할 수 있습니다\n",
    "## 예시 : example[3] = '이것'\n",
    "## example 리스트의 4번째 자료가 '이것' 으로 교체됩니다.\n",
    "\n",
    "def three_six_nine(num_list):\n",
    "    \n",
    "    # input : num_list - 한글 숫자가 들어있는 리스트\n",
    "    # output : num_list\n",
    "    # 입력된 리스트 자료를 보면서, '3, 6, 9' 가 있으면 해당 자료 자리에 \"짝!\" 으로 교체 해주세요\n",
    "    \n",
    "    '''369 게임 규칙: 1부터 숫자를 이어나가되, 3, 6, 9가 들어가는 숫자가 나오면 숫자를 말하지 말고 박수를 치는 등의 다른 행동을 해야 한다.\n",
    "    33, 333과 같이 3, 6, 9가 여러 개 들어갈 경우 여러 번 쳐야 한다(예: 33, 36 등 박수 2번).\n",
    "    박수를 쳐야 하는데 그 숫자를 말하거나 박수를 치면 안 되는 숫자에서 박수를 칠 때, 또는 박수의 횟수가 틀렸을 때 패하게 된다.'''\n",
    "    \n",
    "    ### YOUR CODE HERE ###\n",
    "    \n",
    "    \n",
    "    \n",
    "    \n",
    "    ### END OF CODE ###\n",
    "    \n",
    "    return num_list\n",
    "\n",
    "three_six_nine(number_strings)"
   ]
  },
  {
   "cell_type": "markdown",
   "id": "taken-comment",
   "metadata": {},
   "source": [
    "지난 2주 동안 리스트에 대해서 배웠는데, 오늘 배울 나머지 기본 자료 구조들도 꽤 비슷합니다!"
   ]
  },
  {
   "cell_type": "code",
   "execution_count": null,
   "id": "valuable-norwegian",
   "metadata": {},
   "outputs": [],
   "source": [
    "# List\n",
    "x = [1, 2, 3, 4, 5]\n",
    "print(type(x))\n",
    "# Tuple\n",
    "x = (1, 2, 3, 4, 5)\n",
    "print(type(x))\n",
    "# Set\n",
    "x = {1, 2, 3, 4, 5}\n",
    "print(type(x))\n",
    "# Dict\n",
    "x = {1:'1', 2:'2', 3:'3',4:'4',5:'5'} # 지금 당장 이해가 안 되어도 됩니다...\n",
    "print(type(x))"
   ]
  },
  {
   "cell_type": "markdown",
   "id": "widespread-german",
   "metadata": {},
   "source": [
    "## 1. Tuples\n",
    "\n",
    "Tuple (튜플)은 리스트와 동일하지만, 한번 정의 내린 후 값을 변경하거나 추가/제거할 수 없습니다. (Immutable)"
   ]
  },
  {
   "cell_type": "code",
   "execution_count": null,
   "id": "departmental-laundry",
   "metadata": {},
   "outputs": [],
   "source": [
    "# 리스트의 경우\n",
    "\n",
    "brownies = ['b', 'r', 'o', 'w', 'n', 'i', 'e']\n",
    "brownies.append('s')\n",
    "brownies[0] = 'B'\n",
    "print(brownies)"
   ]
  },
  {
   "cell_type": "code",
   "execution_count": null,
   "id": "reduced-corrections",
   "metadata": {},
   "outputs": [],
   "source": [
    "# 튜플의 경우\n",
    "brownies = ('b', 'r', 'o', 'w', 'n', 'i', 'e')\n",
    "brownies[0] = 'B'"
   ]
  },
  {
   "cell_type": "code",
   "execution_count": null,
   "id": "minor-lucas",
   "metadata": {},
   "outputs": [],
   "source": [
    "brownies.append('s')"
   ]
  },
  {
   "cell_type": "markdown",
   "id": "minus-editing",
   "metadata": {},
   "source": [
    "이 차이점 외에 tuple은 리스트와 기능을 다수 공유하고 있습니다."
   ]
  },
  {
   "cell_type": "code",
   "execution_count": null,
   "id": "buried-hacker",
   "metadata": {
    "scrolled": true
   },
   "outputs": [],
   "source": [
    "print(\"브라우니의 길이는 \", len(brownies), \"입니다\")\n",
    "\n",
    "print(brownies[2])\n",
    "\n",
    "print(brownies[1::2])\n",
    "\n",
    "mixed_tuple = ('브라우니', 102, True)\n",
    "\n",
    "ingredients = \"\"\n",
    "for i in brownies:\n",
    "    ingredients += i\n",
    "print(ingredients)\n",
    "\n",
    "if 'r' in brownies:\n",
    "    print(\"알\")\n",
    "    \n",
    "bad_one_tuple = ('브라우니')\n",
    "print(type(bad_one_tuple))\n",
    "\n",
    "good_one_tuple = ('브라우니',) # 한가지 자료로 Tuple을 만들고 싶으면 뒤에 \",\" 를 붙여야 합니다!\n",
    "print(type(good_one_tuple))"
   ]
  },
  {
   "cell_type": "markdown",
   "id": "aboriginal-sector",
   "metadata": {},
   "source": [
    "만약 tuple의 값을 변경하고 싶다면,\n",
    "\n",
    "1. List로 변환\n",
    "2. List의 값을 변경\n",
    "3. Tuple로 다시 변환"
   ]
  },
  {
   "cell_type": "code",
   "execution_count": null,
   "id": "emerging-worthy",
   "metadata": {},
   "outputs": [],
   "source": [
    "brown = ('b', 'r', 0, 'w', 'n')\n",
    "\n",
    "brown = list(brown)\n",
    "brown[2] = 'o'\n",
    "brown = tuple(brown)\n",
    "\n",
    "print(brown)"
   ]
  },
  {
   "cell_type": "markdown",
   "id": "drawn-sharp",
   "metadata": {},
   "source": [
    "List 대신에 Tuple을 사용하는 이유는 여러가지가 있습니다.\n",
    "\n",
    "1. **Faster** (자료를 탐색할 때는 튜플이 속도가 더 빠릅니다)\n",
    "2. **Safer** (자료를 보호하고 싶을 때는 변경하지 못하는 튜플이 더 좋습니다)\n",
    "3. **Dictionary Usage** (조금 뒤에 설명하겠습니다)"
   ]
  },
  {
   "cell_type": "markdown",
   "id": "champion-complaint",
   "metadata": {},
   "source": [
    "## 2. Sets"
   ]
  },
  {
   "cell_type": "markdown",
   "id": "hispanic-thursday",
   "metadata": {},
   "source": [
    "Set(세트)는 튜플과 비슷하지만, 자료가 일정한 순서로 정해져 있지 않습니다 (Unordered)"
   ]
  },
  {
   "cell_type": "code",
   "execution_count": null,
   "id": "subjective-owner",
   "metadata": {},
   "outputs": [],
   "source": [
    "topping = {} # Empty Set\n",
    "\n",
    "topping = {'Walnut', 'Raisin', 'Banana'}\n",
    "print(topping) # Run - (Kernel - Restart and Clear Output) - Run this again"
   ]
  },
  {
   "cell_type": "markdown",
   "id": "burning-inclusion",
   "metadata": {},
   "source": [
    "따라서 자료 탐색도 불가능 합니다."
   ]
  },
  {
   "cell_type": "code",
   "execution_count": null,
   "id": "revised-extent",
   "metadata": {},
   "outputs": [],
   "source": [
    "print(topping[2])"
   ]
  },
  {
   "cell_type": "markdown",
   "id": "streaming-relation",
   "metadata": {},
   "source": [
    "Set도 값을 변경할 수는 없지만, 추가/제거하는 것까지는 가능합니다."
   ]
  },
  {
   "cell_type": "code",
   "execution_count": null,
   "id": "protective-adelaide",
   "metadata": {},
   "outputs": [],
   "source": [
    "topping.add('Kimchi')\n",
    "print(topping)\n",
    "topping.remove('Raisin')\n",
    "print(topping)"
   ]
  },
  {
   "cell_type": "markdown",
   "id": "waiting-latvia",
   "metadata": {},
   "source": [
    "추가적으로 Set는  반복되는 자료 (Duplicate)가 있을 수 없습니다."
   ]
  },
  {
   "cell_type": "code",
   "execution_count": null,
   "id": "blessed-rhythm",
   "metadata": {},
   "outputs": [],
   "source": [
    "topping = {'Walnut', 'Raisin', 'Kimchi', 'Banana', 'Walnut'} # Walnut duplicate\n",
    "print(topping)"
   ]
  },
  {
   "cell_type": "code",
   "execution_count": null,
   "id": "organizational-creek",
   "metadata": {},
   "outputs": [],
   "source": [
    "# 그 외 이미 아는 기능들...\n",
    "\n",
    "print(\"토핑의 길이는 \", len(topping), \"입니다\")\n",
    "\n",
    "mixed_tuple = ('호두', 530, True)\n",
    "\n",
    "for i in topping:\n",
    "    print(i)\n",
    "\n",
    "if 'M&Ms' not in topping:\n",
    "    print(\"아 왜\")"
   ]
  },
  {
   "cell_type": "markdown",
   "id": "amazing-radio",
   "metadata": {},
   "source": [
    "Set는 추가적으로 교집합과 합집합 기능이 있습니다!"
   ]
  },
  {
   "cell_type": "code",
   "execution_count": null,
   "id": "breathing-denmark",
   "metadata": {},
   "outputs": [],
   "source": [
    "group_1 = {'사과', '바나나', '호두'}\n",
    "group_2 = {'호두', '아몬드', '땅콩'}\n",
    "\n",
    "print(group_1.union(group_2))\n",
    "print(group_1.intersection(group_2))"
   ]
  },
  {
   "cell_type": "markdown",
   "id": "casual-delivery",
   "metadata": {},
   "source": [
    "다른 자료 구조들 중 Set의 장점은 다음과 같습니다.\n",
    "\n",
    "1. **효율적**으로 반복되는 자료 제거\n",
    "2. **교집합** (Intersection), **합집합** (Union) 계산\n",
    "3. **Dictionary Usage** (조금 뒤에 설명하겠습니다)"
   ]
  },
  {
   "cell_type": "markdown",
   "id": "impossible-slide",
   "metadata": {},
   "source": [
    "### 과제 1:\n",
    "\n",
    "여기 문제 투성이 코드가 있습니다. 실수들을 다 고치고 실행 할 수 있도록 해주세요!"
   ]
  },
  {
   "cell_type": "code",
   "execution_count": null,
   "id": "guided-yorkshire",
   "metadata": {},
   "outputs": [],
   "source": [
    "negative_words = ['no', 'not', 'bad', 'lose', 'failure']\n",
    "\n",
    "def positivity(thing):\n",
    "    \n",
    "    #input: thing - tuple\n",
    "    #output: thing - tuple\n",
    "    #replace all elements that imply negativity to a '^-^', then remove all repetitive words\n",
    "    \n",
    "    ### YOUR CHANGES HERE ###\n",
    "    \n",
    "    # replace all negative stuff\n",
    "    for i in range(len(thing)):\n",
    "        if thing[i] in negative_words:\n",
    "            thing[i] = '^o^'\n",
    "            \n",
    "    # remove all repetitive stuff\n",
    "\n",
    "    # IDK...\n",
    "    \n",
    "    return thing\n",
    "\n",
    "    ### END OF CHANGES ###\n",
    "    \n",
    "change_me = ('happy', 'smile', 'not', 'bad', '!', 'win', 'bad', 'failure', 'smile')\n",
    "positivity(change_me)"
   ]
  },
  {
   "cell_type": "markdown",
   "id": "upper-british",
   "metadata": {},
   "source": [
    "## 3. Dictionaries\n",
    "\n",
    "Dictionary (딕셔너리) 자료 구조 자체는 Set와 비슷하지만, 접근 방식은 기존 3개 (List, Tuple, Set)과 조금 결이 다릅니다."
   ]
  },
  {
   "cell_type": "code",
   "execution_count": null,
   "id": "checked-valve",
   "metadata": {},
   "outputs": [],
   "source": [
    "# Dict 구조는 {key:value} 순으로 이루어져 있습니다\n",
    "basic_information = {} # Empty Dictionary (Same as set)\n",
    "basic_information[\"name\"] = \"Steven Lee\"  # Now a real dictionary\n",
    "\n",
    "basic_information = {\n",
    "    \"name\" : 'Steven Lee',\n",
    "    \"age\" : 25,\n",
    "    \"major\" : 'Computer Engineering',\n",
    "    \"has_pet\" : False\n",
    " }\n",
    "\n",
    "print(basic_information)"
   ]
  },
  {
   "cell_type": "markdown",
   "id": "particular-newman",
   "metadata": {},
   "source": [
    "Dictionary의 자료를 접속하거나 추가하고 싶으면 key를 이용해야 합니다."
   ]
  },
  {
   "cell_type": "code",
   "execution_count": null,
   "id": "abstract-voluntary",
   "metadata": {},
   "outputs": [],
   "source": [
    "print(basic_information[\"major\"])\n",
    "\n",
    "basic_information[\"age\"] = 24 # 자료 수정\n",
    "#basic_information.update({\"age\":24})\n",
    "\n",
    "basic_information[\"address\"] = \"Seoul\" # 자료 추가\n",
    "#basic_information.update({\"address\":\"Seoul\"})\n",
    "\n",
    "print(basic_information)"
   ]
  },
  {
   "cell_type": "markdown",
   "id": "realistic-antique",
   "metadata": {},
   "source": [
    "Dictionary 는 순서가 정해져 있지만 (Ordered), 반복되는 Key (Duplicate) 를 가질 수 없습니다. Value는 중복 되어도 상관없습니다."
   ]
  },
  {
   "cell_type": "code",
   "execution_count": null,
   "id": "textile-worry",
   "metadata": {},
   "outputs": [],
   "source": [
    "music_info = {'Title': '신호등', '작사': '이무진 ', '작곡': '이무진', 'Year': 2020, 'Year': '2021'}\n",
    "\n",
    "print(music_info)"
   ]
  },
  {
   "cell_type": "markdown",
   "id": "certain-bruce",
   "metadata": {},
   "source": [
    "Dictionary 의 Key 나 Value 들을 따로 가지고 싶으면 .keys() 나 .values() 를 이용하면 됩니다."
   ]
  },
  {
   "cell_type": "code",
   "execution_count": null,
   "id": "altered-nursery",
   "metadata": {},
   "outputs": [],
   "source": [
    "print(list(basic_information.keys())\n",
    "print(list(basic_information.values())"
   ]
  },
  {
   "cell_type": "markdown",
   "id": "czech-rugby",
   "metadata": {},
   "source": [
    "Dictionary에서 if / for / while loop 를 이용하는 방법은 다양합니다."
   ]
  },
  {
   "cell_type": "code",
   "execution_count": null,
   "id": "fossil-calculator",
   "metadata": {},
   "outputs": [],
   "source": [
    "for i in basic_information:\n",
    "    if basic_information[i] == 24:\n",
    "        print(\"뻥치시네\")\n",
    "        \n",
    "for i in basic_information.keys():\n",
    "    if basic_information[i] == 24:\n",
    "        print(\"거짓말\")"
   ]
  },
  {
   "cell_type": "code",
   "execution_count": null,
   "id": "reliable-appreciation",
   "metadata": {},
   "outputs": [],
   "source": [
    "# dict.items() 를 이용하면 한번에 key 와 value를 동시에 접속할 수 있습니다.\n",
    "\n",
    "for i, j in basic_information.items():\n",
    "    if i == \"age\":\n",
    "        j += 1\n",
    "        \n",
    "print(basic_information)"
   ]
  },
  {
   "cell_type": "code",
   "execution_count": null,
   "id": "hidden-being",
   "metadata": {},
   "outputs": [],
   "source": [
    "if \"name\" in basic_information:\n",
    "    print(\"네임\")"
   ]
  },
  {
   "cell_type": "markdown",
   "id": "introductory-ordinary",
   "metadata": {},
   "source": [
    "Dictionary의 key는 값이 바뀔 수 없어 List가 들어갈 수 없습니다. 하지만 Immutable한  Tuple은 들어갈 수 있습니다."
   ]
  },
  {
   "cell_type": "code",
   "execution_count": null,
   "id": "monetary-illness",
   "metadata": {},
   "outputs": [],
   "source": [
    "team_name = {['낙현', '현준'] : \"김낙현준\"}"
   ]
  },
  {
   "cell_type": "code",
   "execution_count": null,
   "id": "prepared-prospect",
   "metadata": {},
   "outputs": [],
   "source": [
    "team_name = {('상우', '우진') : '박상우진'}"
   ]
  },
  {
   "cell_type": "markdown",
   "id": "durable-department",
   "metadata": {},
   "source": [
    "Value 는 List, Tuple 다 상관없습니다."
   ]
  },
  {
   "cell_type": "code",
   "execution_count": null,
   "id": "expected-wings",
   "metadata": {},
   "outputs": [],
   "source": [
    "meal_pref = {'중식' : ['안현준', '해정'], '일식': ['채연, 승연'], '한식': ['낙현', '우진'], '베트남식': ['민혁', '상우'], '금식':['신욱']}\n",
    "\n",
    "meal_pref['중식'][0] = '현준'\n",
    "\n",
    "meal_pref = {'중식' : ('현준', '해정'), '일식': ('채연, 승연'), '한식': ('낙현', '우진', '민혁'), '베트남식': ('민혁', '상우'), '금식':('신욱')}\n",
    "\n",
    "print(meal_pref['중식'][0])"
   ]
  },
  {
   "cell_type": "markdown",
   "id": "indian-decimal",
   "metadata": {},
   "source": [
    "마지막으로, Dictionary 안에 Dictionary가 들어갈 수 있으며, 자료 탐색 방식은 이전 자료 구조와 같다고 생각하시면 됩니다."
   ]
  },
  {
   "cell_type": "code",
   "execution_count": null,
   "id": "sound-semester",
   "metadata": {},
   "outputs": [],
   "source": [
    "students = {\n",
    "    \n",
    "    '승환': {\n",
    "        'Role' : 'Team Leader',\n",
    "        'Major': 'Computer Engineering',\n",
    "        'Team' : 'Python Learning'\n",
    "    },\n",
    "    \n",
    "    '낙현': {\n",
    "        'Role' : 'Mad Hyung',\n",
    "        'Major': 'Crop Sciences',\n",
    "        'Team' : 'Python Learning'\n",
    "    },\n",
    "    \n",
    "    '채연': {\n",
    "        'Role' : 'Master Baker',\n",
    "        'Major': 'Communications',\n",
    "        'Team' : 'Python Learning'\n",
    "    }\n",
    "    \n",
    "    ### 팀 멤버 다 만들고 싶지만 다음 기회에...\n",
    "}\n",
    "\n",
    "print(students['낙현']['Major'])"
   ]
  },
  {
   "cell_type": "code",
   "execution_count": null,
   "id": "overhead-tongue",
   "metadata": {},
   "outputs": [],
   "source": [
    "# lookup time: dict < list\n",
    "d = {}\n",
    "l =[]\n",
    "for i in range(1000000):\n",
    "    d.update({i:i*100})\n",
    "    l.append([i, i*100])\n",
    "\n",
    "%time d[765432]\n",
    "%time l.index([765432, 76543200])"
   ]
  },
  {
   "cell_type": "markdown",
   "id": "technological-organizer",
   "metadata": {},
   "source": [
    "### 과제 2:\n",
    "\n",
    "다음은 Purdue 대학교 **'코드볼'** 동아리 파이선 러닝팀 숙제 완료 현황을 나타내는 Dictionary 입니다.\n",
    "\n",
    "숙제를 하지 않은 학생들의 점수를 1점 감점하고, 해온 학생들의 점수를 3점 더해주세요!"
   ]
  },
  {
   "cell_type": "code",
   "execution_count": null,
   "id": "christian-shift",
   "metadata": {},
   "outputs": [],
   "source": [
    "codeball_students = {\n",
    "    \n",
    "    '박낙현' : {\n",
    "        \"homework\": False,\n",
    "        \"points\": 25\n",
    "    },\n",
    "    \n",
    "    '이현준' : {\n",
    "        \"homework\": True,\n",
    "        \"points\": 21\n",
    "    },\n",
    "    \n",
    "    '유채연' : {\n",
    "        \"homework\": False,\n",
    "        \"points\": 33\n",
    "    },\n",
    "    \n",
    "    '이민혁' : {\n",
    "        \"homework\": True,\n",
    "        \"points\": 13\n",
    "    },\n",
    "    \n",
    "    '마우진' : {\n",
    "        \"homework\": True,\n",
    "        \"points\": 20\n",
    "    },\n",
    "    \n",
    "    '최해정' : {\n",
    "        \"homework\": False,\n",
    "        \"points\": 25\n",
    "    },\n",
    "    \n",
    "    '황승연' : {\n",
    "        \"homework\": True,\n",
    "        \"points\": 14\n",
    "    },\n",
    "    \n",
    "    '심상우' : {\n",
    "        \"homework\": False,\n",
    "        \"points\": 1\n",
    "    },\n",
    "    \n",
    "    '우신욱' : {\n",
    "        \"homework\":True,\n",
    "        \"points\": 391\n",
    "    }    \n",
    "}\n",
    "\n",
    "\n",
    "def homework_check(student_dict):\n",
    "    \n",
    "    # Input : Student information dictionary\n",
    "    # Output : Student information dictionary with points changed\n",
    "    \n",
    "    ### YOUR CODE HERE ###\n",
    "    \n",
    "    \n",
    "    \n",
    "    ### END OF CODE ###\n",
    "    \n",
    "    return student_dict\n",
    "\n",
    "homework_check(codeball_students)"
   ]
  },
  {
   "cell_type": "code",
   "execution_count": null,
   "id": "raised-jewelry",
   "metadata": {},
   "outputs": [],
   "source": []
  }
 ],
 "metadata": {
  "kernelspec": {
   "display_name": "Python 3 (ipykernel)",
   "language": "python",
   "name": "python3"
  },
  "language_info": {
   "codemirror_mode": {
    "name": "ipython",
    "version": 3
   },
   "file_extension": ".py",
   "mimetype": "text/x-python",
   "name": "python",
   "nbconvert_exporter": "python",
   "pygments_lexer": "ipython3",
   "version": "3.8.3"
  }
 },
 "nbformat": 4,
 "nbformat_minor": 5
}
