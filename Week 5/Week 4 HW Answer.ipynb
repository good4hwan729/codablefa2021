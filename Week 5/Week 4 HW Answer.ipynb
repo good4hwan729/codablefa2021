{
 "cells": [
  {
   "cell_type": "markdown",
   "id": "incomplete-monroe",
   "metadata": {},
   "source": [
    "# 숙제 1\n",
    "\n",
    "**밥도날드**는 현재 세트 메뉴 가격 변동에 대해 고민하고 있습니다. 단품 가격이 크게 달라졌기 때문인데요, 이 문제를 쉽게 해결하기 위해 **세트 메뉴 구성**와 **메뉴 가격 변동**을 각각 **dictionary** 으로 저장해 놓았습니다. 이를 가지고 새 가격을 정하는 함수 **new_menu**를 완성해주세요!"
   ]
  },
  {
   "cell_type": "code",
   "execution_count": null,
   "id": "lovely-messaging",
   "metadata": {},
   "outputs": [],
   "source": [
    "bobdonald_set_menu = {\n",
    "    \"Set A\": {\n",
    "        \"combo\": [\"Burger\", \"Soda\", \"Fries\"],\n",
    "        \"price\" : 9.5, # 단위 달러\n",
    "    },\n",
    "    \n",
    "    \"Set B\": {\n",
    "        \"combo\": [\"Nuggets\", \"Onion Ring\", \"Soda\"],\n",
    "        \"price\" : 5.7\n",
    "    },\n",
    "    \n",
    "    \"Set C\": {\n",
    "        \"combo\": [\"Ice Cream\", \"Soda\"],\n",
    "        \"price\" : 3.3\n",
    "    },\n",
    "    \n",
    "    \"Set D\": {\n",
    "        \"combo\": [\"Onion Ring\", \"Nuggets\", \"Fries\"],\n",
    "        \"price\": 6.0\n",
    "    },\n",
    "    \n",
    "    \"Set E\": { \n",
    "        \"combo\": [\"Burger\", \"Burger\", \"Ice Cream\", \"Ice Cream\"],\n",
    "        \"price\": 14.4\n",
    "    }\n",
    "}\n",
    "\n",
    "# 메뉴 옆에 있는 숫자는 가격 변동입니다 (단위: 달러)\n",
    "menu_price_change = {    \n",
    "    \"Burger\" : -0.5,\n",
    "    \"Fries\" : 0.9,\n",
    "    \"Soda\" : 0.1,\n",
    "    \"Ice Cream\": 0,\n",
    "    \"Nuggets\": 1.3,\n",
    "    \"Onion Ring\": -1.0\n",
    "}"
   ]
  },
  {
   "cell_type": "code",
   "execution_count": null,
   "id": "greenhouse-reality",
   "metadata": {},
   "outputs": [],
   "source": [
    "def new_menu(set_menu, price_change):\n",
    "    \n",
    "    ### YOUR CODE HERE ### (Min : 3 lines)\n",
    "    for i in bobdonald_set_menu:\n",
    "        for j in bobdonald_set_menu[i][\"combo\"]:\n",
    "            bobdonald_set_menu[i][\"price\"] += menu_price_change[j]\n",
    "            \n",
    "    ### END OF CODE ###\n",
    "    \n",
    "    return round(set_menu[\"Set A\"][\"price\"], 1), round(set_menu[\"Set B\"][\"price\"], 1), round(set_menu[\"Set C\"][\"price\"], 1), round(set_menu[\"Set D\"][\"price\"], 1), round(set_menu[\"Set E\"][\"price\"], 1)\n",
    "\n",
    "\n",
    "setA, setB, setC, setD, setE = new_menu(bobdonald_set_menu, menu_price_change)\n",
    "\n",
    "print(\"Set A: \", setA)\n",
    "print(\"Set B: \", setB)\n",
    "print(\"Set C: \", setC)\n",
    "print(\"Set D: \", setD)\n",
    "print(\"Set E: \", setE)"
   ]
  },
  {
   "cell_type": "markdown",
   "id": "ordinary-science",
   "metadata": {},
   "source": [
    "### 정답 확인\n",
    "\n",
    "해당 코드를 돌릴 때마다 결과가,\n",
    "\n",
    "Set A : 10.0 -> 10.5 -> 11.0 -> ...\n",
    "\n",
    "Set B : 6.1 -> 6.5 -> 6.9 -> ...\n",
    "\n",
    "Set C : 3.4 -> 3.5 -> 3.6 -> ...\n",
    "\n",
    "Set D : 7.2 -> 8.4 -> 9.6 -> ...\n",
    "\n",
    "Set E : 13.4 -> 12.4 -> 11.4 -> ...\n",
    "\n",
    "형태로 나온다면 숙제 1 끝!"
   ]
  },
  {
   "cell_type": "markdown",
   "id": "finished-russell",
   "metadata": {},
   "source": [
    "# 숙제 2\n",
    "\n",
    "두 개의 Dictionary가 같은 Key 를 가졌을 때, 그에 해당되는 Value들을 모두 common_sum 에 저장하여 리턴하세요!"
   ]
  },
  {
   "cell_type": "code",
   "execution_count": null,
   "id": "intense-sweden",
   "metadata": {},
   "outputs": [],
   "source": [
    "def common_key_sum(dict1, dict2):\n",
    "    \n",
    "    #input: dict1, dict2 (Two Dictionaries)\n",
    "    #output: common_sum (Sum of values of common key in both dictionaries )\n",
    "    \n",
    "    common_sum = 0\n",
    "    \n",
    "    #YOUR CODE HERE#\n",
    "    \n",
    "    for i in dict1:\n",
    "        if i in dict2:\n",
    "            common_sum += dict1[i]\n",
    "            common_sum += dict2[i]\n",
    "    \n",
    "    #END OF CODE#\n",
    "    \n",
    "    return common_sum"
   ]
  },
  {
   "cell_type": "code",
   "execution_count": null,
   "id": "hybrid-crystal",
   "metadata": {},
   "outputs": [],
   "source": [
    "# 해당 숙제는 직접 예시를 만들어보고 테스트 해보세요!\n",
    "a = {1:2, 3:5, 0:7}\n",
    "b = {3:2, 1:5, 6:2}\n",
    "\n",
    "common_key_sum(a, b)"
   ]
  },
  {
   "cell_type": "code",
   "execution_count": null,
   "id": "recent-virginia",
   "metadata": {},
   "outputs": [],
   "source": []
  }
 ],
 "metadata": {
  "kernelspec": {
   "display_name": "Python 3 (ipykernel)",
   "language": "python",
   "name": "python3"
  },
  "language_info": {
   "codemirror_mode": {
    "name": "ipython",
    "version": 3
   },
   "file_extension": ".py",
   "mimetype": "text/x-python",
   "name": "python",
   "nbconvert_exporter": "python",
   "pygments_lexer": "ipython3",
   "version": "3.8.3"
  }
 },
 "nbformat": 4,
 "nbformat_minor": 5
}
