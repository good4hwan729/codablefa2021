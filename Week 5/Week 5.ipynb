{
 "cells": [
  {
   "cell_type": "markdown",
   "id": "chief-commitment",
   "metadata": {},
   "source": [
    "# 파이선 러닝 5주차: Lamda, Map, Classes (1/2)"
   ]
  },
  {
   "cell_type": "markdown",
   "id": "institutional-messenger",
   "metadata": {},
   "source": [
    "### 과제 0\n",
    "\n",
    "빈칸을 채워주세요!"
   ]
  },
  {
   "cell_type": "code",
   "execution_count": null,
   "id": "shared-argentina",
   "metadata": {},
   "outputs": [],
   "source": [
    "complex_dictionary = {\n",
    "    \n",
    "    \"level1\": {\n",
    "        \"door1\":{\n",
    "            \"answer\":\"dead_end\"\n",
    "        },\n",
    "        \"door2\":{\n",
    "            \"answer\":\"dead_end\"\n",
    "        },\n",
    "        \"door3\":{\n",
    "            \"level2\":{\n",
    "                \"pw:4821\":{\n",
    "                    \"answer\":\"nope\"\n",
    "                },\n",
    "                \"pw:1009\":{\n",
    "                    \"level3\": {\n",
    "                        \"answer\":\"dictionary_master\"\n",
    "                    }\n",
    "                },\n",
    "                \"pw:0729\":{\n",
    "                    \"answer\":\"wrong\"\n",
    "                }\n",
    "            }\n",
    "        }\n",
    "    }\n",
    "}\n",
    "\n",
    "# TYPE HERE TO OUTPUT \"dictionary_master\"#\n",
    "\n",
    "# END OF BLANK"
   ]
  },
  {
   "cell_type": "markdown",
   "id": "invalid-weather",
   "metadata": {},
   "source": [
    "## 1. Lamda\n",
    "\n",
    "람다 함수는 익명함수라고도 하며, 말 그대로 이름이 없지만 함수 (function)의 역할을 하는 기능을 가지고 있습니다!"
   ]
  },
  {
   "cell_type": "markdown",
   "id": "associate-wallet",
   "metadata": {},
   "source": [
    "**FORMAT**\n",
    "\n",
    "lambda (arguments) : (expression)"
   ]
  },
  {
   "cell_type": "code",
   "execution_count": null,
   "id": "amino-watts",
   "metadata": {},
   "outputs": [],
   "source": [
    "# 어떤 숫자 a에다가 1을 더하는 익명함수를 정의하고, add_one이 해당 함수의 역할을 수행하도록 지정합니다\n",
    "add_one = lambda a : a + 1\n",
    "\n",
    "add_one(5)"
   ]
  },
  {
   "cell_type": "code",
   "execution_count": null,
   "id": "opposed-thing",
   "metadata": {},
   "outputs": [],
   "source": [
    "# 람다 함수도 여러개의 input을 받을 수 있습니다\n",
    "\n",
    "add_three = lambda a, b, c: a + b + c\n",
    "\n",
    "add_three(700, 300 , 9)"
   ]
  },
  {
   "cell_type": "markdown",
   "id": "discrete-elder",
   "metadata": {},
   "source": [
    "람다 함수를 쓰는 이유는 일반 함수 (function) 안에 들어갔을 때 잘 확인할 수 있습니다."
   ]
  },
  {
   "cell_type": "code",
   "execution_count": null,
   "id": "damaged-corner",
   "metadata": {},
   "outputs": [],
   "source": [
    "def multiplier(n):\n",
    "    return lambda a: a * n"
   ]
  },
  {
   "cell_type": "code",
   "execution_count": null,
   "id": "english-washer",
   "metadata": {},
   "outputs": [],
   "source": [
    "times_two = multiplier(2)\n",
    "\n",
    "times_two(17)"
   ]
  },
  {
   "cell_type": "code",
   "execution_count": null,
   "id": "national-hepatitis",
   "metadata": {},
   "outputs": [],
   "source": [
    "times_baek = multiplier(100)\n",
    "\n",
    "times_baek(456)"
   ]
  },
  {
   "cell_type": "markdown",
   "id": "postal-witch",
   "metadata": {},
   "source": [
    "위에 보시는 것처럼, 람다 함수는 일시적으로 함수를 써야 할 때 유용합니다!\n",
    "\n",
    "### 과제 1"
   ]
  },
  {
   "cell_type": "markdown",
   "id": "cardiac-wallet",
   "metadata": {},
   "source": [
    "여기 문자들이 뒤집혀서 저장된 string이 있습니다. lambda 함수를 이용하여 해당 string을 원상복구 시켜주세요!"
   ]
  },
  {
   "cell_type": "code",
   "execution_count": null,
   "id": "dense-parks",
   "metadata": {},
   "outputs": [],
   "source": [
    "reversed_word = \"seitilibisneherpmocni\"\n",
    "\n",
    "### YOUR LAMBDA HERE ###\n",
    "\n",
    "### END OF LAMBDA ###"
   ]
  },
  {
   "cell_type": "markdown",
   "id": "interpreted-appraisal",
   "metadata": {},
   "source": [
    "## 2. Map\n",
    "\n",
    "map은, 한 함수에 여러개의 인자를 넣어서 결과값을 저장하고 싶을 때 사용하는 기능입니다!\n",
    "\n",
    "**FORMAT**\n",
    "\n",
    "map(function, list)"
   ]
  },
  {
   "cell_type": "code",
   "execution_count": null,
   "id": "studied-wheel",
   "metadata": {},
   "outputs": [],
   "source": [
    "one_to_five = [1,2,3,4,5]\n",
    "\n",
    "def double(x):\n",
    "    return x + x\n",
    "\n",
    "result = map(double, one_to_five)\n",
    "\n",
    "list(result) # map 결과값은 이렇게 list 같이 자료형으로 변환되어야 출력이 됩니다!"
   ]
  },
  {
   "cell_type": "markdown",
   "id": "greenhouse-inclusion",
   "metadata": {},
   "source": [
    "map 안에 function 부분은 lambda를 이용해도 됩니다."
   ]
  },
  {
   "cell_type": "code",
   "execution_count": null,
   "id": "negative-ethernet",
   "metadata": {},
   "outputs": [],
   "source": [
    "list(map(lambda a: a + a, range(1,6)))"
   ]
  },
  {
   "cell_type": "markdown",
   "id": "efficient-milwaukee",
   "metadata": {},
   "source": [
    "함수의 결과값이 True, False 형태로 나온다면 map 대신에 filter 기능을 쓸 수 있습니다!"
   ]
  },
  {
   "cell_type": "code",
   "execution_count": null,
   "id": "prospective-guide",
   "metadata": {},
   "outputs": [],
   "source": [
    "list(filter(lambda a: a < 5, range(1, 11)))"
   ]
  },
  {
   "cell_type": "markdown",
   "id": "color-organic",
   "metadata": {},
   "source": [
    "### 과제 2\n",
    "\n",
    "단 한 줄의 코드로, 35에서 49까지의 숫자 중 7의 배수를 출력하세요!"
   ]
  },
  {
   "cell_type": "code",
   "execution_count": null,
   "id": "determined-preliminary",
   "metadata": {},
   "outputs": [],
   "source": [
    "# YOUR CODE HERE #\n",
    "\n",
    "# END OF CODE #"
   ]
  },
  {
   "cell_type": "markdown",
   "id": "entertaining-closing",
   "metadata": {},
   "source": [
    "## 3. Classes\n",
    "\n",
    "Class는 하나의 큰 부류를 정의 합니다. 그리고 Class는 기본적으로 해당하는 특성 (property)를 가지고 있습니다."
   ]
  },
  {
   "cell_type": "code",
   "execution_count": null,
   "id": "funky-content",
   "metadata": {},
   "outputs": [],
   "source": [
    "class Pet:\n",
    "    has_tail = True # 여기서 has_tail는 Pet이라는 Class의 한 property라고 생각하시면 됩니다"
   ]
  },
  {
   "cell_type": "markdown",
   "id": "cellular-cable",
   "metadata": {},
   "source": [
    "변수를 정의하는 것 처럼, class 도 똑같이 합니다. 이 때 한 번 만든 class의 예제를 **instance** (실체) 라고 합니다.\n",
    "\n",
    "쉽게 설명해서, class를 쿠키 커터로 생각하시고, instance를 그 커터로 만든 쿠키 하나라고 생각하시면 됩니다!"
   ]
  },
  {
   "cell_type": "code",
   "execution_count": null,
   "id": "explicit-belgium",
   "metadata": {},
   "outputs": [],
   "source": [
    "Mond = Pet() # 몬드는 Pet class의 한 Instance 입니다\n",
    "Labong = Pet() # 라봉이도 Pet class의 한 Instance 입니다\n",
    "\n",
    "print(Mond.has_tail)\n",
    "print(Labong.has_tail)"
   ]
  },
  {
   "cell_type": "markdown",
   "id": "golden-director",
   "metadata": {},
   "source": [
    "위 예시는 Class의 제일 기본적인 형태이며, 만약 특성의 기본값을 사용자 정의로 지정하게 만들고 싶으면, `__init__` 기능을 이용해주시기 바랍니다.\n",
    "\n",
    "**FORMAT**\n",
    "\n",
    "`def __init__(self, something, something2, ...):\n",
    "    self.property1 = something\n",
    "    self.property2 = something2\n",
    "    ...`"
   ]
  },
  {
   "cell_type": "code",
   "execution_count": null,
   "id": "yellow-plenty",
   "metadata": {},
   "outputs": [],
   "source": [
    "class Pet:\n",
    "    def __init__(self, name, pet_type, has_tail):\n",
    "        self.name = name\n",
    "        self.type = pet_type\n",
    "        self.has_tail = has_tail"
   ]
  },
  {
   "cell_type": "code",
   "execution_count": null,
   "id": "historical-concern",
   "metadata": {},
   "outputs": [],
   "source": [
    "p1 = Pet(\"Mond\", \"Puppy\", True)\n",
    "p2 = Pet(\"Labong\", \"Puppy\", True)"
   ]
  },
  {
   "cell_type": "code",
   "execution_count": null,
   "id": "conscious-packet",
   "metadata": {},
   "outputs": [],
   "source": [
    "print(p1.name)\n",
    "print(p2.type)"
   ]
  },
  {
   "cell_type": "markdown",
   "id": "bored-welcome",
   "metadata": {},
   "source": [
    "Method는 Class 안에서만 사용 가능한 함수(function)입니다. Class 안에서 일반 함수 하나 정의하면 끝입니다"
   ]
  },
  {
   "cell_type": "code",
   "execution_count": null,
   "id": "outside-nowhere",
   "metadata": {},
   "outputs": [],
   "source": [
    "class Pet:\n",
    "    def __init__(self, name, pet_type, has_tail):\n",
    "        self.name = name\n",
    "        self.type = pet_type\n",
    "        self.has_tail = has_tail\n",
    "        \n",
    "    def talk(self): # Method도 input으로 self를 넣어야 합니다!\n",
    "        if self.type == \"Puppy\":\n",
    "            print(\"멍!\")\n",
    "        elif self.type == \"Kitty\":\n",
    "            print(\"냥!\")"
   ]
  },
  {
   "cell_type": "code",
   "execution_count": null,
   "id": "female-semester",
   "metadata": {},
   "outputs": [],
   "source": [
    "p1 = Pet(\"Mond\", \"Puppy\", True)\n",
    "p1.talk()"
   ]
  },
  {
   "cell_type": "code",
   "execution_count": null,
   "id": "latter-letters",
   "metadata": {},
   "outputs": [],
   "source": [
    "p2 = Pet(\"Munji\", \"Kitty\", True)\n",
    "p2.talk()"
   ]
  },
  {
   "cell_type": "markdown",
   "id": "cheap-education",
   "metadata": {},
   "source": [
    "만약 property를 변경하고 싶으면 일반적인 값 변경처럼 하시면 됩니다!"
   ]
  },
  {
   "cell_type": "code",
   "execution_count": null,
   "id": "upper-accountability",
   "metadata": {},
   "outputs": [],
   "source": [
    "p1.type = \"Kitty\" # 몬드가 고양이가 되었습니다...?\n",
    "\n",
    "p1.talk()"
   ]
  },
  {
   "cell_type": "markdown",
   "id": "basic-grave",
   "metadata": {},
   "source": [
    "property를 없애거나 instance를 없애려면 del을 이용하시면 됩니다"
   ]
  },
  {
   "cell_type": "code",
   "execution_count": null,
   "id": "charitable-notification",
   "metadata": {},
   "outputs": [],
   "source": [
    "del p2.name # 안녕 먼지\n",
    "\n",
    "print(p2.name)"
   ]
  },
  {
   "cell_type": "code",
   "execution_count": null,
   "id": "accurate-sociology",
   "metadata": {},
   "outputs": [],
   "source": [
    "del p2 # 안녕 이름 없는 고양이\n",
    "\n",
    "print(p2)"
   ]
  },
  {
   "cell_type": "markdown",
   "id": "innovative-router",
   "metadata": {},
   "source": [
    "### 과제 3\n",
    "\n",
    "이번에도 창의력을 기르는 시간입니다! 원하는 class 하나 만들고, `__init__` 함수와 Method 하나 만들어주세요!\n",
    "\n",
    "마지막으로 instance 하나 부른뒤, method 까지 실행하시면 됩니다."
   ]
  },
  {
   "cell_type": "code",
   "execution_count": null,
   "id": "static-cylinder",
   "metadata": {},
   "outputs": [],
   "source": []
  }
 ],
 "metadata": {
  "kernelspec": {
   "display_name": "Python 3 (ipykernel)",
   "language": "python",
   "name": "python3"
  },
  "language_info": {
   "codemirror_mode": {
    "name": "ipython",
    "version": 3
   },
   "file_extension": ".py",
   "mimetype": "text/x-python",
   "name": "python",
   "nbconvert_exporter": "python",
   "pygments_lexer": "ipython3",
   "version": "3.8.3"
  }
 },
 "nbformat": 4,
 "nbformat_minor": 5
}
