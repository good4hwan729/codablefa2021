{
 "cells": [
  {
   "cell_type": "markdown",
   "id": "possible-honduras",
   "metadata": {},
   "source": [
    "# 숙제 : 큐브 만들기"
   ]
  },
  {
   "attachments": {
    "image-2.png": {
     "image/png": "[encoded data removed]"
    }
   },
   "cell_type": "markdown",
   "id": "micro-elder",
   "metadata": {},
   "source": [
    "![image-2.png](attachment:image-2.png)"
   ]
  },
  {
   "cell_type": "markdown",
   "id": "hindu-wallet",
   "metadata": {},
   "source": [
    "직육면체는 보시는 것과 같이 가로, 세로, 높이으로 이루어진 3차원 모형입니다.\n",
    "\n",
    "해당 세 길이가 주어졌을 때, 직육면체 instance를 부를 수 있도록 class를 만들어주시고, 다음 method들을 모두 만들어주세요!\n",
    "\n",
    "**surface_area()** : 직육면체의 겉넓이를 출력합니다\n",
    "\n",
    "**edge_sum()** : 직육면체의 모든 변들의 합을 출력합니다\n",
    "\n",
    "**cube_vol()** : 직육면체의 부피를 출력합니다\n",
    "\n",
    "**diagonal()** : 직육면체의 대각선 길이 (위 사진의 **d** 의 길이)를 출력합니다\n",
    "\n",
    "**is_square_cube()** : 직육면체가 정육면체인지 아닌지 출력합니다\n",
    "\n",
    "\n",
    "물론, `__init__` 함수도 스스로 만드셔야 합니다."
   ]
  },
  {
   "cell_type": "code",
   "execution_count": 1,
   "id": "vertical-edwards",
   "metadata": {},
   "outputs": [],
   "source": [
    "class Cube():\n",
    "    \n",
    "    ### YOUR CODE HERE ###\n",
    "    def __init__(self, a, b, c):\n",
    "        self.a = a\n",
    "        self.b = b\n",
    "        self.c = c\n",
    "    \n",
    "    def surface_area(self):\n",
    "        return 2 * (self.a * self.b + self.b * self.c + self.a * self.c)\n",
    "    \n",
    "    def edge_sum(self):\n",
    "        return (self.a + self.b + self.c)* 4\n",
    "    \n",
    "    def cube_vol(self):\n",
    "        return (self.a * self.b * self.c)\n",
    "    \n",
    "    def diagonal(self):\n",
    "        return (self.a**2 + self.b**2 + self.c**2)**0.5\n",
    "    \n",
    "    def is_square_cube(self):\n",
    "        \n",
    "        return self.a == self.b and self.b == self.c\n",
    "\n",
    "    \n",
    "    \n",
    "\n",
    "    ### END OF CODE ###\n",
    "    \n",
    "    pass"
   ]
  },
  {
   "cell_type": "markdown",
   "id": "visible-expense",
   "metadata": {},
   "source": [
    "## 정답 확인하기"
   ]
  },
  {
   "cell_type": "code",
   "execution_count": 2,
   "id": "proud-primary",
   "metadata": {},
   "outputs": [],
   "source": [
    "cube1 = Cube(3, 4, 5)\n",
    "\n",
    "if cube1.surface_area() != 94:\n",
    "    print(\"SURFACE AREA TEST FAIL\")\n",
    "    \n",
    "if cube1.edge_sum() != 48:\n",
    "    print(\"EDGE SUM TEST FAIL\")\n",
    "\n",
    "if cube1.cube_vol() != 60:\n",
    "    print(\"CUBE VOL TEST FAIL\")\n",
    "\n",
    "if cube1.diagonal() != (50)**0.5:\n",
    "    print(\"DIAGONAL TEST FAIL\")\n",
    "    \n",
    "if cube1.is_square_cube():\n",
    "    print(\"IS SQUARE CUBE TEST FAIL\")"
   ]
  },
  {
   "cell_type": "code",
   "execution_count": null,
   "id": "designed-caribbean",
   "metadata": {},
   "outputs": [],
   "source": []
  }
 ],
 "metadata": {
  "kernelspec": {
   "display_name": "Python 3 (ipykernel)",
   "language": "python",
   "name": "python3"
  },
  "language_info": {
   "codemirror_mode": {
    "name": "ipython",
    "version": 3
   },
   "file_extension": ".py",
   "mimetype": "text/x-python",
   "name": "python",
   "nbconvert_exporter": "python",
   "pygments_lexer": "ipython3",
   "version": "3.8.3"
  }
 },
 "nbformat": 4,
 "nbformat_minor": 5
}
