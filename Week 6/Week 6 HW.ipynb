{
 "cells": [
  {
   "cell_type": "markdown",
   "id": "demanding-spirituality",
   "metadata": {},
   "source": [
    "# 이번 숙제는 없습니다! 푹 쉬십쇼들"
   ]
  },
  {
   "cell_type": "code",
   "execution_count": 1,
   "id": "agricultural-petroleum",
   "metadata": {},
   "outputs": [],
   "source": [
    "# 그래도 하고 싶은게 있으시다면 여기에다가 아무거나 쓰세요...\n",
    "\n",
    "\n",
    "### YOUR CODE HERE ###\n",
    "\n",
    "\n",
    "\n",
    "\n",
    "\n",
    "\n",
    "\n",
    "\n",
    "\n",
    "\n",
    "\n",
    "\n",
    "\n",
    "\n",
    "\n",
    "\n",
    "\n",
    "\n",
    "\n",
    "\n",
    "\n",
    "\n",
    "\n",
    "\n",
    "\n",
    "### END OF CODE ###"
   ]
  },
  {
   "cell_type": "code",
   "execution_count": null,
   "id": "rental-stretch",
   "metadata": {},
   "outputs": [],
   "source": []
  }
 ],
 "metadata": {
  "kernelspec": {
   "display_name": "Python 3 (ipykernel)",
   "language": "python",
   "name": "python3"
  },
  "language_info": {
   "codemirror_mode": {
    "name": "ipython",
    "version": 3
   },
   "file_extension": ".py",
   "mimetype": "text/x-python",
   "name": "python",
   "nbconvert_exporter": "python",
   "pygments_lexer": "ipython3",
   "version": "3.8.3"
  }
 },
 "nbformat": 4,
 "nbformat_minor": 5
}
