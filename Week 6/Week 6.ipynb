{
 "cells": [
  {
   "cell_type": "markdown",
   "id": "literary-ground",
   "metadata": {},
   "source": [
    "# 파이선 러닝 6주차: Classes (2/2), Basic Python Wrap-up, Next Level"
   ]
  },
  {
   "cell_type": "markdown",
   "id": "practical-sentence",
   "metadata": {},
   "source": [
    "### 과제 0:\n",
    "\n",
    "a1z26 cipher는 숫자로 이루어진 암호입니다. 1 = a, 2 = b, ... 26 = z 를 이용하여 원하는 메세지를 숨깁니다.\n",
    "\n",
    "example) 16 25 20 8 15 14 = 'python'\n",
    "\n",
    "주어진 **alphabet_list**, **lambda** 기능과 **map** 기능을 이용하여, 주어진 암호를 해독하는 코드를 만드세요!"
   ]
  },
  {
   "cell_type": "code",
   "execution_count": null,
   "id": "answering-register",
   "metadata": {},
   "outputs": [],
   "source": [
    "alphabet_list = ['a','b','c','d','e','f','g','h','i','j','k','l','m','n','o','p','q','r','s','t','u','v','w','x','y','z']\n",
    "\n",
    "code = [16, 9, 14, 5, 1, 16, 16, 12, 5, 15, 14, 16, 9, 26, 26, 1, 9, 19, 7, 15, 15, 4]\n",
    "\n",
    "# 아래 코드 주석을 제거한 후 완성해주세요!\n",
    "#decipher = \n",
    "\n",
    "\n",
    "# 정답 확인하기\n",
    "final_string = \"\"\n",
    "for i in list(decipher):\n",
    "    final_string += i\n",
    "\n",
    "print(final_string)"
   ]
  },
  {
   "cell_type": "markdown",
   "id": "bulgarian-nursing",
   "metadata": {},
   "source": [
    "## 1. Classes (2/2) - Inheritance\n",
    "\n",
    "지난주 저희는 Class와 관련 특성을 만드는 방법, `__init__` 함수와 method 함수를 이용하는 법을 배웠습니다."
   ]
  },
  {
   "cell_type": "code",
   "execution_count": null,
   "id": "international-mortality",
   "metadata": {},
   "outputs": [],
   "source": [
    "class Person():\n",
    "    def __init__(self, fname, lname):\n",
    "        self.first = fname\n",
    "        self.last = lname\n",
    "        \n",
    "    def choolseok(self):        \n",
    "        print(\"My name is \" + self.first + \" \" + self.last)\n",
    "        \n",
    "p1 = Person(\"Steven\", \"Lee\")\n",
    "p1.choolseok()"
   ]
  },
  {
   "cell_type": "markdown",
   "id": "detailed-oxford",
   "metadata": {},
   "source": [
    "Inheritance는 한 Class가 다른 Class의 Method과 특성을 가지고 오고 싶을 때 쓰는 개념입니다.\n",
    "\n",
    "이 때, 기존 Class를 **Parent Class**이라고 하고, 새 Class를 **Child Class**이라고 합니다."
   ]
  },
  {
   "cell_type": "code",
   "execution_count": null,
   "id": "metallic-jason",
   "metadata": {},
   "outputs": [],
   "source": [
    "class Student(Person): # Student Class는 Person Class를 inherit 합니다.\n",
    "    pass"
   ]
  },
  {
   "cell_type": "code",
   "execution_count": null,
   "id": "constant-endorsement",
   "metadata": {},
   "outputs": [],
   "source": [
    "p2 = Student(\"Woojin\", \"Shin\")\n",
    "p2.choolseok()"
   ]
  },
  {
   "cell_type": "markdown",
   "id": "molecular-forest",
   "metadata": {},
   "source": [
    "**Child Class**에서 따로 `__init__` 함수를 만들 수 있습니다. 이 때 **Parent Class**의 `__init__`은 사용되지 않습니다."
   ]
  },
  {
   "cell_type": "code",
   "execution_count": null,
   "id": "modified-chambers",
   "metadata": {},
   "outputs": [],
   "source": [
    "class Student(Person):\n",
    "    \n",
    "    def __init__(self, fname, lname):\n",
    "        \n",
    "        self.first = fname\n",
    "        self.last = lname"
   ]
  },
  {
   "cell_type": "code",
   "execution_count": null,
   "id": "peripheral-delay",
   "metadata": {},
   "outputs": [],
   "source": [
    "p3 = Student(\"Hyunjun\", \"Ahn\", \"Freshman\")\n",
    "p3.choolseok()"
   ]
  },
  {
   "cell_type": "code",
   "execution_count": null,
   "id": "grateful-patient",
   "metadata": {},
   "outputs": [],
   "source": [
    "p3 = Student(\"Hyunjun\", \"Ahn\")"
   ]
  },
  {
   "cell_type": "markdown",
   "id": "little-water",
   "metadata": {},
   "source": [
    "**Parent Class** 의 `__init__` function을 그대로 사용하고 싶다면"
   ]
  },
  {
   "cell_type": "code",
   "execution_count": null,
   "id": "rolled-photograph",
   "metadata": {},
   "outputs": [],
   "source": [
    "class Student(Person):\n",
    "    \n",
    "    def __init__(self, fname, lname):\n",
    "        Person.__init__(self, fname, lname)"
   ]
  },
  {
   "cell_type": "markdown",
   "id": "terminal-tunnel",
   "metadata": {},
   "source": [
    "Person이라고 명칭을 안해도 super()를 쓰면 Parent Class을 직접적으로 접속할 수 있습니다."
   ]
  },
  {
   "cell_type": "code",
   "execution_count": null,
   "id": "round-spouse",
   "metadata": {},
   "outputs": [],
   "source": [
    "class Student(Person):\n",
    "    \n",
    "    def __init__(self, fname, lname):\n",
    "        super().__init__(self, fname, lname)"
   ]
  },
  {
   "cell_type": "code",
   "execution_count": null,
   "id": "stock-personality",
   "metadata": {},
   "outputs": [],
   "source": [
    "class Student(Person):\n",
    "    \n",
    "    def __init__(self, fname, lname, year):\n",
    "        Person.__init__(self, fname, lname)\n",
    "        self.year = year"
   ]
  },
  {
   "cell_type": "markdown",
   "id": "greater-chemistry",
   "metadata": {},
   "source": [
    "**Child Class**에도 Method 함수를 만들 수 있습니다.\n",
    "\n",
    "Child Class는 Parent Class의 Method을 모두 사용할 수 있지만, 역으로는 못합니다. "
   ]
  },
  {
   "cell_type": "code",
   "execution_count": null,
   "id": "worth-europe",
   "metadata": {},
   "outputs": [],
   "source": [
    "class Person():\n",
    "    def __init__(self, fname, lname):\n",
    "        self.first = fname\n",
    "        self.last = lname\n",
    "        \n",
    "    def choolseuk(self):        \n",
    "        print(\"My name is \" + self.first + \" \" + self.last)\n",
    "        \n",
    "class Student(Person):\n",
    "    \n",
    "    def __init__(self, fname, lname, year):\n",
    "        Person.__init__(self, fname, lname)\n",
    "        self.year = year\n",
    "        \n",
    "    def what_year(self):\n",
    "        print(\"I'm in my \" + self.year + \" year\")"
   ]
  },
  {
   "cell_type": "code",
   "execution_count": null,
   "id": "optional-inside",
   "metadata": {},
   "outputs": [],
   "source": [
    "s1 = Student(\"Shinuk\", \"Lee\", \"Freshman\")\n",
    "\n",
    "s1.choolseuk()\n",
    "s1.what_year()"
   ]
  },
  {
   "cell_type": "code",
   "execution_count": null,
   "id": "killing-giving",
   "metadata": {},
   "outputs": [],
   "source": [
    "s2 = Person(\"Seungyeon\", \"Cha\")\n",
    "s2.choolseuk()\n",
    "s2.what_year()"
   ]
  },
  {
   "cell_type": "markdown",
   "id": "flush-retreat",
   "metadata": {},
   "source": [
    "### 과제 1:\n",
    "\n",
    "국가를 지정하는 **Country** Class를 만들고, 특성으로 이름 (name), 수도 (capital), 인구 (population)를 저장하도록 설정하세요.\n",
    "\n",
    "그 뒤 Country의 Child Class **Korea**를 만들고, 해당하는 Method 함수 정보(information)를 만들어 Parent Class의 특성을 프린트하세요!"
   ]
  },
  {
   "cell_type": "code",
   "execution_count": null,
   "id": "affiliated-cradle",
   "metadata": {},
   "outputs": [],
   "source": [
    "### YOUR CODE HERE ###\n",
    "\n",
    "\n",
    "\n",
    "\n",
    "\n",
    "### END OF CODE ###"
   ]
  },
  {
   "cell_type": "markdown",
   "id": "cooperative-territory",
   "metadata": {},
   "source": [
    "# 2. Basic Python Wrap-up\n",
    "\n",
    "축하합니다!\n",
    "\n",
    "여러분은 지금까지 파이선을 이루는 제일 기본적인 문법과 기능들을 배웠습니다. 오늘 지금까지 배운 내용을 토대로 문제 몇개를 같이 풀어보고, 추후 배울 내용에 대해서 알아보겠습니다."
   ]
  },
  {
   "cell_type": "markdown",
   "id": "opposite-boxing",
   "metadata": {},
   "source": [
    "### 문제 1:\n",
    "\n",
    "**Palindrome**은 숫자가 앞 뒤로 재배치해도 똑같은 숫자를 말합니다.\n",
    "\n",
    "ex) 12321 (O), -12321 (X), 12 (X), 4 (O)\n",
    "\n",
    "숫자 n이 주어졌을 때, 해당 숫자가 palindrome 인지를 확인하는 함수 **isPalindrome**을 완성하세요."
   ]
  },
  {
   "cell_type": "code",
   "execution_count": null,
   "id": "spanish-anime",
   "metadata": {},
   "outputs": [],
   "source": [
    "def isPalindrome(n):\n",
    "    \n",
    "    ### YOUR CODE HERE ###\n",
    "    \n",
    "    return str(n) == str(n)[::-1]\n",
    "    \n",
    "    ### END OF CODE ###\n",
    "    \n",
    "    return True"
   ]
  },
  {
   "cell_type": "code",
   "execution_count": null,
   "id": "magnetic-ethiopia",
   "metadata": {},
   "outputs": [],
   "source": [
    "print(isPalindrome(12321))\n",
    "print(isPalindrome(-12321))\n",
    "print(isPalindrome(12))\n",
    "print(isPalindrome(4))"
   ]
  },
  {
   "cell_type": "markdown",
   "id": "missing-marijuana",
   "metadata": {},
   "source": [
    "### 문제 2:\n",
    "\n",
    "숫자들이 들어있는 리스트 nums가 주어졌을 때, 해당 숫자 중에서 단 한번 나타나는 숫자를 찾는 함수 **singleNumber**를 완성하세요.\n",
    "\n",
    "ex) [4, 1, 2, 2, 1] -> 4\n",
    "\n",
    "4를 제외한 나머지 숫자들이 두 번씩 나타났습니다."
   ]
  },
  {
   "cell_type": "code",
   "execution_count": null,
   "id": "formal-speaking",
   "metadata": {},
   "outputs": [],
   "source": [
    "def singleNumber(nums):\n",
    "    \n",
    "    ### YOUR CODE HERE ###\n",
    "    \n",
    "    \n",
    "    \n",
    "    ### END OF CODE ###\n",
    "    \n",
    "    return 0"
   ]
  },
  {
   "cell_type": "code",
   "execution_count": null,
   "id": "covered-balance",
   "metadata": {},
   "outputs": [],
   "source": [
    "print(singleNumber([4,1,2,2,1]))\n",
    "print(singleNumber([2,2,1]))\n",
    "print(singleNumber([1]))"
   ]
  },
  {
   "cell_type": "markdown",
   "id": "spanish-yukon",
   "metadata": {},
   "source": [
    "### 문제 3:"
   ]
  },
  {
   "cell_type": "markdown",
   "id": "australian-bernard",
   "metadata": {},
   "source": [
    "숫자 n 이 주어졌을 때, 각 숫자의 자릿수들의 제곱의 합을 구하는 함수 **digit_square**을 완성하세요!\n",
    "\n",
    "ex) digit_square(39) = 9 + 81 = 90"
   ]
  },
  {
   "cell_type": "code",
   "execution_count": null,
   "id": "reliable-february",
   "metadata": {},
   "outputs": [],
   "source": [
    "def digit_square(n):\n",
    "    \n",
    "    ### YOUR CODE HERE ###\n",
    "    \n",
    "    \n",
    "    ### END OF CODE ###\n",
    "    \n",
    "    return 0"
   ]
  },
  {
   "cell_type": "code",
   "execution_count": null,
   "id": "organizational-testament",
   "metadata": {},
   "outputs": [],
   "source": [
    "print(digit_square(39))\n",
    "print(digit_square(3))\n",
    "print(digit_square(100))"
   ]
  },
  {
   "cell_type": "markdown",
   "id": "tired-philippines",
   "metadata": {},
   "source": [
    "# 3. Next Level"
   ]
  },
  {
   "cell_type": "markdown",
   "id": "orange-exchange",
   "metadata": {},
   "source": [
    "이제 앞으로 남은 주들은 프로젝트에 활용도 높은 파이선 라이브러리 개념을 다룰 예정입니다. 예시로 들자면...\n",
    "\n",
    "\n",
    "**1. Data Visualization**\n",
    "\n",
    "\n",
    "**2. Mathematics Advanced**\n",
    "\n",
    "\n",
    "**3. Web Application**"
   ]
  },
  {
   "cell_type": "code",
   "execution_count": null,
   "id": "phantom-canadian",
   "metadata": {},
   "outputs": [],
   "source": []
  }
 ],
 "metadata": {
  "kernelspec": {
   "display_name": "Python 3 (ipykernel)",
   "language": "python",
   "name": "python3"
  },
  "language_info": {
   "codemirror_mode": {
    "name": "ipython",
    "version": 3
   },
   "file_extension": ".py",
   "mimetype": "text/x-python",
   "name": "python",
   "nbconvert_exporter": "python",
   "pygments_lexer": "ipython3",
   "version": "3.8.3"
  }
 },
 "nbformat": 4,
 "nbformat_minor": 5
}
