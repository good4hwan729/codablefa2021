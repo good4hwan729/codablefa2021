{
 "cells": [
  {
   "cell_type": "markdown",
   "id": "marine-stream",
   "metadata": {},
   "source": [
    "# 숙제"
   ]
  },
  {
   "cell_type": "markdown",
   "id": "molecular-distinction",
   "metadata": {},
   "source": [
    "이번 숙제는 두 가지 옵션을 드리고자 합니다.\n",
    "\n",
    "**옵션 1**: 직접 문제를 만들어보세요! 만들어진 문제는 무작위 다른 팀원에게 숙제로 넘겨질 것이며, 그 다음 주에 해당 문제를 설명하는 자리에서 발표를 시킬 것입니다! 문제는 어떻게 내든 상관없으나, 지금까지 배운 내용을 토대 + 수용 가능한 난이도 범위로 만들어주시면 감사하겠습니다! "
   ]
  },
  {
   "cell_type": "markdown",
   "id": "broken-winning",
   "metadata": {},
   "source": [
    "**문제 설명란**: "
   ]
  },
  {
   "cell_type": "code",
   "execution_count": 1,
   "id": "anonymous-charter",
   "metadata": {},
   "outputs": [],
   "source": [
    "### YOUR PROBLEM CODE TEMPLATE HERE ###\n",
    "\n",
    "\n",
    "\n",
    "\n",
    "\n",
    "\n",
    "\n",
    "\n",
    "\n",
    "\n",
    "\n",
    "\n",
    "\n",
    "\n",
    "\n",
    "\n",
    "\n",
    "\n",
    "\n",
    "\n",
    "\n",
    "### END OF PROBLEM TEMPLATE ###"
   ]
  },
  {
   "cell_type": "markdown",
   "id": "corrected-chaos",
   "metadata": {},
   "source": [
    "**만든 문제에 대한 풀이**:"
   ]
  },
  {
   "cell_type": "markdown",
   "id": "nervous-object",
   "metadata": {},
   "source": [
    "**옵션 2**: 만약 푸는 것이 더 익숙하시다면, 문제를 드리겠습니다..."
   ]
  },
  {
   "cell_type": "code",
   "execution_count": null,
   "id": "widespread-inventory",
   "metadata": {},
   "outputs": [],
   "source": []
  }
 ],
 "metadata": {
  "kernelspec": {
   "display_name": "Python 3 (ipykernel)",
   "language": "python",
   "name": "python3"
  },
  "language_info": {
   "codemirror_mode": {
    "name": "ipython",
    "version": 3
   },
   "file_extension": ".py",
   "mimetype": "text/x-python",
   "name": "python",
   "nbconvert_exporter": "python",
   "pygments_lexer": "ipython3",
   "version": "3.8.3"
  }
 },
 "nbformat": 4,
 "nbformat_minor": 5
}
