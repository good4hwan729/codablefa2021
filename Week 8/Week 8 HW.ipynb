{
 "cells": [
  {
   "cell_type": "markdown",
   "id": "disciplinary-chamber",
   "metadata": {},
   "source": [
    "# 숙제\n",
    "\n",
    "숙제를 풀기 전 기본적으로 필요한 코드를 돌리겠습니다."
   ]
  },
  {
   "cell_type": "code",
   "execution_count": null,
   "id": "fallen-request",
   "metadata": {},
   "outputs": [],
   "source": [
    "import pandas as pd\n",
    "import matplotlib.pyplot as plt\n",
    "import ipympl\n",
    "apple = pd.read_csv(\"aapl.csv\")\n",
    "apple['Date'] = pd.to_datetime(apple['Date'])\n",
    "apple"
   ]
  },
  {
   "cell_type": "code",
   "execution_count": null,
   "id": "maritime-cathedral",
   "metadata": {},
   "outputs": [],
   "source": [
    "plt.plot(apple['Date'], apple['Close'])"
   ]
  },
  {
   "attachments": {
    "image.png": {
     "image/png": "[encoded data removed]"
    }
   },
   "cell_type": "markdown",
   "id": "funny-external",
   "metadata": {},
   "source": [
    "# 숙제 1\n",
    "\n",
    "주식에서 Moving Average는 다음과 같습니다.\n",
    "\n",
    "![image.png](attachment:image.png)\n",
    "\n",
    "여기서 n은 자료 항목 갯수를 말하고, X는 평균을 구하는 항목입니다.\n",
    "\n",
    "항목과 숫자 n이 주어졌을 때, Moving Average를 구하는 함수 movAvg를 완성하세요!"
   ]
  },
  {
   "cell_type": "code",
   "execution_count": null,
   "id": "lesser-hurricane",
   "metadata": {},
   "outputs": [],
   "source": [
    "def movAvg(dataset, n):\n",
    "    \n",
    "    # input: 'dataset', which is pandas Series, and 'n': an integer, as two parameters.\n",
    "    # output: A moving averaged list of 'dataset'\n",
    "    # For index < n - 1, l[index] = average from l[0] to l[index]\n",
    "    # Else, l[index] = average from l[index - n + 1] to l[index]\n",
    "\n",
    "        \n",
    "    ### YOUR CODE HERE ###\n",
    "    \n",
    "\n",
    "\n",
    "\n",
    "\n",
    "\n",
    "\n",
    "\n",
    "\n",
    "\n",
    "\n",
    "\n",
    "\n",
    "\n",
    "\n",
    "    ### END OF CODE ###\n",
    "\n",
    "# 코드 확인\n",
    "ret = movAvg(apple['Close'], 7)\n",
    "print(ret[5] == sum(apple['Close'].iloc[:6])/6)"
   ]
  },
  {
   "cell_type": "markdown",
   "id": "distinct-hawaii",
   "metadata": {},
   "source": [
    "# 숙제 2\n",
    "\n",
    "방금 만든 Moving Average 함수를 바탕으로, Apple 자료의 Close 항목의 30일간의 평균을 구하고,해당 자료를 새 항목으로 저장하세요"
   ]
  },
  {
   "cell_type": "code",
   "execution_count": null,
   "id": "higher-round",
   "metadata": {},
   "outputs": [],
   "source": [
    "### YOUR CODE HERE ###\n",
    "\n",
    "\n",
    "\n",
    "### END OF CODE ###\n",
    "\n",
    "\n",
    "# 코드 확인\n",
    "print(round(apple['CloseMovAvg'].iloc[100], 5) == round(apple['Close'].rolling(30).mean().iloc[100], 5))"
   ]
  },
  {
   "cell_type": "markdown",
   "id": "overall-anniversary",
   "metadata": {},
   "source": [
    "# 숙제 3: (네 이번 주 숙제는 조금 양이 있네요 ;;)\n",
    "\n",
    "마지막으로, Apple 의 Close 항목과 CloseMovAvg 항목을 둘 다 그래프에 나타내세요! "
   ]
  },
  {
   "cell_type": "code",
   "execution_count": null,
   "id": "boolean-butter",
   "metadata": {},
   "outputs": [],
   "source": [
    "%matplotlib widget\n",
    "\n",
    "\n",
    "plt.figure(figsize = (10, 5))\n",
    "### YOUR CODE HERE ###\n",
    "\n",
    "\n",
    "\n",
    "### END OF CODE ###"
   ]
  },
  {
   "cell_type": "code",
   "execution_count": null,
   "id": "forty-peninsula",
   "metadata": {},
   "outputs": [],
   "source": []
  }
 ],
 "metadata": {
  "kernelspec": {
   "display_name": "Python 3 (ipykernel)",
   "language": "python",
   "name": "python3"
  },
  "language_info": {
   "codemirror_mode": {
    "name": "ipython",
    "version": 3
   },
   "file_extension": ".py",
   "mimetype": "text/x-python",
   "name": "python",
   "nbconvert_exporter": "python",
   "pygments_lexer": "ipython3",
   "version": "3.8.3"
  }
 },
 "nbformat": 4,
 "nbformat_minor": 5
}
