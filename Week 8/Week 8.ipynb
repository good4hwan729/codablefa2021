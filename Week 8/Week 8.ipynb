{
 "cells": [
  {
   "cell_type": "markdown",
   "id": "violent-pottery",
   "metadata": {},
   "source": [
    "# 파이선 러닝 8주차 : Data Visualization"
   ]
  },
  {
   "cell_type": "markdown",
   "id": "innocent-wireless",
   "metadata": {},
   "source": [
    "시작하기 앞서, 라이브러리를 받아오겠습니다.\n",
    "\n",
    "지난주 팀미팅에서 이미 설치 하셨다면 `pip3 install matplotlib` 이나 `pip3 install pandas`를 할 필요까지는 없지만, 설치한 라이브러리를 받아오는 코드는 진행하셔야합니다!\n",
    "\n",
    "추가적으로 이번 주 수업은 `pip3 install ipympl` (matplotlib - jupyter 연동 라이브러리) 까지 해오시면 감사하겠습니다!"
   ]
  },
  {
   "cell_type": "code",
   "execution_count": null,
   "id": "administrative-specification",
   "metadata": {},
   "outputs": [],
   "source": [
    "# 라이브러리 받아오기\n",
    "from matplotlib import pyplot as plt\n",
    "import pandas as pd"
   ]
  },
  {
   "cell_type": "markdown",
   "id": "continuing-event",
   "metadata": {},
   "source": [
    "복습할겸, 지난주에 연 파일을 다시 확인해보겠습니다."
   ]
  },
  {
   "cell_type": "code",
   "execution_count": null,
   "id": "precise-companion",
   "metadata": {},
   "outputs": [],
   "source": [
    "apple = pd.read_csv(\"aapl.csv\") # appl.csv 파일을 읽습니다\n",
    "apple"
   ]
  },
  {
   "cell_type": "markdown",
   "id": "thorough-template",
   "metadata": {},
   "source": [
    "지난주에는 저희가 csv 파일에서 자료를 탐색 (indexing)하는 기본적인 법을 배웠습니다.\n",
    "만약 추려낸 자료를 어떤 조건을 이용해서 필터링하고 싶다면,"
   ]
  },
  {
   "cell_type": "code",
   "execution_count": null,
   "id": "useful-cache",
   "metadata": {},
   "outputs": [],
   "source": [
    "apple[apple['Close'] > 170] # indexing 하는데 쓰이는 대괄호안에 조건을 집어넣으시면 됩니다."
   ]
  },
  {
   "cell_type": "code",
   "execution_count": null,
   "id": "unlikely-phase",
   "metadata": {},
   "outputs": [],
   "source": [
    "apple[(apple['Close'] > 110) & (apple['High'] < 115)]['Date'] # &를 쓰시면 두 조건을 모두 충족 시키는 자료를 찾을 수 있습니다\n",
    "# apple[(apple['Close'] > 110) | (apple['High'] < 115)]['Date'] # | 를 쓰시면 두 조건 중 하나라도 충족시키는 자료를 찾을 수 있습니다"
   ]
  },
  {
   "cell_type": "markdown",
   "id": "indian-knock",
   "metadata": {},
   "source": [
    "## 과제 1:\n",
    "\n",
    "apple 파일에서 High 항목이 100 이하이고, Low 항목이 80 이상인 항목 중에서, Open 항목의 최댓값을 구하세요!\n",
    "\n",
    "힌트: max(자료) 를 이용하면 최댓값을 구할 수 있습니다."
   ]
  },
  {
   "cell_type": "code",
   "execution_count": null,
   "id": "subsequent-library",
   "metadata": {},
   "outputs": [],
   "source": [
    "### YOUR CODE HERE ###\n",
    "\n",
    "\n",
    "\n",
    "### END OF CODE ###"
   ]
  },
  {
   "cell_type": "markdown",
   "id": "accessible-authentication",
   "metadata": {},
   "source": [
    "지난 주에 간단하게 그래프를 만드는 법도 배웠습니다."
   ]
  },
  {
   "cell_type": "code",
   "execution_count": null,
   "id": "diverse-reserve",
   "metadata": {},
   "outputs": [],
   "source": [
    "plt.plot(apple['Close'])"
   ]
  },
  {
   "cell_type": "markdown",
   "id": "ignored-desktop",
   "metadata": {},
   "source": [
    "만약 그래프를 주어진 날짜에 맞춰서 (날짜가 x축에 오도록) 설정하면 시각적으로 오류가 생깁니다."
   ]
  },
  {
   "cell_type": "code",
   "execution_count": null,
   "id": "designed-teens",
   "metadata": {},
   "outputs": [],
   "source": [
    "plt.plot(apple['Date'], apple['Close']) # 그래프 하단에 보이는 검은 줄은 날짜들을 전부 표시하려다 겹쳐서 생긴 오류입니다."
   ]
  },
  {
   "cell_type": "code",
   "execution_count": null,
   "id": "interim-egyptian",
   "metadata": {},
   "outputs": [],
   "source": [
    "print(type(apple['Date'].iloc[0]))\n",
    "apple['Date'] = pd.to_datetime(apple['Date']) # csv 상에서 날짜 (str)를 pandas가 해석할 수 있는 형태(timestamp)로 변형시킵니다\n",
    "print(type(apple['Date'].iloc[0]))"
   ]
  },
  {
   "cell_type": "markdown",
   "id": "exotic-voluntary",
   "metadata": {},
   "source": [
    "그래프를 자세하게 만드는 과정을 보면서 matplotlib.pyplot의 기능들을 살펴보겠습니다."
   ]
  },
  {
   "cell_type": "code",
   "execution_count": null,
   "id": "electric-bibliography",
   "metadata": {},
   "outputs": [],
   "source": [
    "plt.figure(figsize = (20, 10))    # 그래프의 크기를 설정하기\n",
    "plt.plot(apple['Date'], apple['Close']) # 그래프의 x, y축을 설정하며 생성하기\n",
    "plt.title('Apple Stock Closing Price') # 그래프 상단에 위치할 제목 생성\n",
    "plt.xlabel(\"Date\") # 그래프 x축에 위치할 이름 지정\n",
    "plt.ylabel(\"Stock Price($)\") # 그래프 y축에 위치할 이름 지정"
   ]
  },
  {
   "cell_type": "code",
   "execution_count": null,
   "id": "unauthorized-blanket",
   "metadata": {},
   "outputs": [],
   "source": [
    "#ipympl 라이브러리 사용하여 조금 더 interactive한 그래프를 만들어봅시다!\n",
    "%matplotlib widget "
   ]
  },
  {
   "cell_type": "code",
   "execution_count": null,
   "id": "based-exposure",
   "metadata": {},
   "outputs": [],
   "source": [
    "# 만약 해당 코드를 돌려서 그래프가 표시 되지 않는다면 jupyter를 닫고 다시 열어보세요!\n",
    "plt.figure(figsize = (10, 5))\n",
    "plt.plot(apple['Date'], apple['Close'])\n",
    "plt.title('Apple Stock Closing Price')\n",
    "plt.xlabel(\"Date\")\n",
    "plt.ylabel(\"Stock Price($)\")"
   ]
  },
  {
   "cell_type": "markdown",
   "id": "romance-isaac",
   "metadata": {},
   "source": [
    "이제 그래프를 하나 더 추가하여 비교하는 작업을 진행해보겠습니다!"
   ]
  },
  {
   "cell_type": "code",
   "execution_count": null,
   "id": "compatible-foster",
   "metadata": {},
   "outputs": [],
   "source": [
    "google = pd.read_csv('goog.csv')\n",
    "google['Date'] = pd.to_datetime(google['Date']) # 마찬가지로 날짜 변환 작업을 진행합니다"
   ]
  },
  {
   "cell_type": "code",
   "execution_count": null,
   "id": "center-report",
   "metadata": {},
   "outputs": [],
   "source": [
    "plt.figure(figsize = (10, 5))\n",
    "plt.plot(google['Date'], google['Close'])\n",
    "plt.title('Google Stock Closing Price')\n",
    "plt.xlabel(\"Date\")\n",
    "plt.ylabel(\"Stock Price($)\")"
   ]
  },
  {
   "cell_type": "code",
   "execution_count": null,
   "id": "hybrid-significance",
   "metadata": {},
   "outputs": [],
   "source": [
    "plt.figure(figsize = (10, 5))\n",
    "plt.plot(apple['Date'], apple['Close'], label = \"Apple\")\n",
    "plt.plot(google['Date'], google['Close'], label = \"Google\") # 기존 plot에 추가합니다\n",
    "plt.title('Apple vs Google Stock Closing Price')\n",
    "plt.xlabel(\"Date\")\n",
    "plt.ylabel(\"Stock Price($)\")\n",
    "plt.legend()"
   ]
  },
  {
   "cell_type": "markdown",
   "id": "reasonable-monster",
   "metadata": {},
   "source": [
    "마지막으로, 기존에 있는 파일에 새로운 항을 계산을 통해 추가하고 싶다면"
   ]
  },
  {
   "cell_type": "code",
   "execution_count": null,
   "id": "possible-waters",
   "metadata": {},
   "outputs": [],
   "source": [
    "a_close = apple['Close'].to_list()\n",
    "g_close = google['Close'].to_list()\n",
    "a_start, g_start = a_close[0], g_close[0]\n",
    "a_close = [(i - a_start)/a_start * 100 for i in a_close] # 예습 과제: a_close가 의미하는 바는 무엇일까요?\n",
    "g_close = [(i - g_start)/g_start * 100 for i in g_close] # 예습 과제: g_close가 의미하는 바는 무엇일까요?\n",
    "apple['Close Scaled'] = a_close\n",
    "google['Close Scaled'] = g_close\n",
    "apple"
   ]
  },
  {
   "cell_type": "markdown",
   "id": "provincial-prairie",
   "metadata": {},
   "source": [
    "맨 오른쪽에 Closed Scaled 항목이 추가된 것을 확인할 수 있습니다!"
   ]
  },
  {
   "cell_type": "markdown",
   "id": "opposite-czech",
   "metadata": {},
   "source": [
    "## 과제 2:\n",
    "\n",
    "해당 새로 만든 Closed Scaled 항목을 날짜에 따라 변화량을 Apple과 Google 모두 그래프로 나타내주세요!"
   ]
  },
  {
   "cell_type": "code",
   "execution_count": null,
   "id": "private-lancaster",
   "metadata": {},
   "outputs": [],
   "source": [
    "### YOUR CODE HERE ###\n",
    "\n",
    "\n",
    "\n",
    "\n",
    "### END OF CODE ###"
   ]
  },
  {
   "cell_type": "markdown",
   "id": "liable-paste",
   "metadata": {},
   "source": [
    "만약 데이터 파일을 받지 않고 직접 만들고 싶다면,"
   ]
  },
  {
   "cell_type": "code",
   "execution_count": null,
   "id": "blind-metabolism",
   "metadata": {},
   "outputs": [],
   "source": [
    "bobas = pd.DataFrame([[6, 7], [8, 6], [7, 5]], index = ['Coco Mero', 'Teamoji', 'Kung Foo Tea'], columns = ['Taste', 'Price'])\n",
    "bobas"
   ]
  },
  {
   "cell_type": "code",
   "execution_count": null,
   "id": "disabled-semester",
   "metadata": {},
   "outputs": [],
   "source": [
    "bobas.iloc[1, 0]"
   ]
  },
  {
   "cell_type": "code",
   "execution_count": null,
   "id": "sharing-miniature",
   "metadata": {},
   "outputs": [],
   "source": [
    "bobas.loc['Teamoji', 'Taste']"
   ]
  },
  {
   "cell_type": "code",
   "execution_count": null,
   "id": "signal-flexibility",
   "metadata": {},
   "outputs": [],
   "source": [
    "apple.loc[1, 'Open'] == apple.iloc[1, 1]"
   ]
  },
  {
   "cell_type": "code",
   "execution_count": null,
   "id": "outer-mixer",
   "metadata": {},
   "outputs": [],
   "source": []
  }
 ],
 "metadata": {
  "kernelspec": {
   "display_name": "Python 3 (ipykernel)",
   "language": "python",
   "name": "python3"
  },
  "language_info": {
   "codemirror_mode": {
    "name": "ipython",
    "version": 3
   },
   "file_extension": ".py",
   "mimetype": "text/x-python",
   "name": "python",
   "nbconvert_exporter": "python",
   "pygments_lexer": "ipython3",
   "version": "3.8.3"
  }
 },
 "nbformat": 4,
 "nbformat_minor": 5
}
