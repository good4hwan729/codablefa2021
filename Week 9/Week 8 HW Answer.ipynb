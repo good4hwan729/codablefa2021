{
 "cells": [
  {
   "cell_type": "markdown",
   "id": "disciplinary-chamber",
   "metadata": {},
   "source": [
    "# 숙제\n",
    "\n",
    "숙제를 풀기 전 기본적으로 필요한 코드를 돌리겠습니다."
   ]
  },
  {
   "cell_type": "code",
   "execution_count": 3,
   "id": "fallen-request",
   "metadata": {},
   "outputs": [
    {
     "data": {
      "text/html": [
       "<div>\n",
       "<style scoped>\n",
       "    .dataframe tbody tr th:only-of-type {\n",
       "        vertical-align: middle;\n",
       "    }\n",
       "\n",
       "    .dataframe tbody tr th {\n",
       "        vertical-align: top;\n",
       "    }\n",
       "\n",
       "    .dataframe thead th {\n",
       "        text-align: right;\n",
       "    }\n",
       "</style>\n",
       "<table border=\"1\" class=\"dataframe\">\n",
       "  <thead>\n",
       "    <tr style=\"text-align: right;\">\n",
       "      <th></th>\n",
       "      <th>Date</th>\n",
       "      <th>Open</th>\n",
       "      <th>High</th>\n",
       "      <th>Low</th>\n",
       "      <th>Close</th>\n",
       "      <th>Adj Close</th>\n",
       "      <th>Volume</th>\n",
       "    </tr>\n",
       "  </thead>\n",
       "  <tbody>\n",
       "    <tr>\n",
       "      <th>0</th>\n",
       "      <td>2010-10-11</td>\n",
       "      <td>10.526428</td>\n",
       "      <td>10.615714</td>\n",
       "      <td>10.521428</td>\n",
       "      <td>10.548572</td>\n",
       "      <td>9.115436</td>\n",
       "      <td>427753200</td>\n",
       "    </tr>\n",
       "    <tr>\n",
       "      <th>1</th>\n",
       "      <td>2010-10-12</td>\n",
       "      <td>10.550357</td>\n",
       "      <td>10.696428</td>\n",
       "      <td>10.446072</td>\n",
       "      <td>10.662143</td>\n",
       "      <td>9.213575</td>\n",
       "      <td>558544000</td>\n",
       "    </tr>\n",
       "    <tr>\n",
       "      <th>2</th>\n",
       "      <td>2010-10-13</td>\n",
       "      <td>10.721429</td>\n",
       "      <td>10.784286</td>\n",
       "      <td>10.707143</td>\n",
       "      <td>10.719286</td>\n",
       "      <td>9.262955</td>\n",
       "      <td>630092400</td>\n",
       "    </tr>\n",
       "    <tr>\n",
       "      <th>3</th>\n",
       "      <td>2010-10-14</td>\n",
       "      <td>10.774643</td>\n",
       "      <td>10.802500</td>\n",
       "      <td>10.728572</td>\n",
       "      <td>10.796785</td>\n",
       "      <td>9.329926</td>\n",
       "      <td>435296400</td>\n",
       "    </tr>\n",
       "    <tr>\n",
       "      <th>4</th>\n",
       "      <td>2010-10-15</td>\n",
       "      <td>10.980000</td>\n",
       "      <td>11.250000</td>\n",
       "      <td>10.889643</td>\n",
       "      <td>11.240714</td>\n",
       "      <td>9.713540</td>\n",
       "      <td>922194000</td>\n",
       "    </tr>\n",
       "    <tr>\n",
       "      <th>...</th>\n",
       "      <td>...</td>\n",
       "      <td>...</td>\n",
       "      <td>...</td>\n",
       "      <td>...</td>\n",
       "      <td>...</td>\n",
       "      <td>...</td>\n",
       "      <td>...</td>\n",
       "    </tr>\n",
       "    <tr>\n",
       "      <th>2513</th>\n",
       "      <td>2020-10-05</td>\n",
       "      <td>113.910004</td>\n",
       "      <td>116.650002</td>\n",
       "      <td>113.550003</td>\n",
       "      <td>116.500000</td>\n",
       "      <td>116.500000</td>\n",
       "      <td>106243800</td>\n",
       "    </tr>\n",
       "    <tr>\n",
       "      <th>2514</th>\n",
       "      <td>2020-10-06</td>\n",
       "      <td>115.699997</td>\n",
       "      <td>116.120003</td>\n",
       "      <td>112.250000</td>\n",
       "      <td>113.160004</td>\n",
       "      <td>113.160004</td>\n",
       "      <td>161498200</td>\n",
       "    </tr>\n",
       "    <tr>\n",
       "      <th>2515</th>\n",
       "      <td>2020-10-07</td>\n",
       "      <td>114.620003</td>\n",
       "      <td>115.550003</td>\n",
       "      <td>114.129997</td>\n",
       "      <td>115.080002</td>\n",
       "      <td>115.080002</td>\n",
       "      <td>96849000</td>\n",
       "    </tr>\n",
       "    <tr>\n",
       "      <th>2516</th>\n",
       "      <td>2020-10-08</td>\n",
       "      <td>116.250000</td>\n",
       "      <td>116.400002</td>\n",
       "      <td>114.589996</td>\n",
       "      <td>114.970001</td>\n",
       "      <td>114.970001</td>\n",
       "      <td>83477200</td>\n",
       "    </tr>\n",
       "    <tr>\n",
       "      <th>2517</th>\n",
       "      <td>2020-10-09</td>\n",
       "      <td>115.279999</td>\n",
       "      <td>117.000000</td>\n",
       "      <td>114.919998</td>\n",
       "      <td>116.970001</td>\n",
       "      <td>116.970001</td>\n",
       "      <td>99893400</td>\n",
       "    </tr>\n",
       "  </tbody>\n",
       "</table>\n",
       "<p>2518 rows × 7 columns</p>\n",
       "</div>"
      ],
      "text/plain": [
       "           Date        Open        High         Low       Close   Adj Close  \\\n",
       "0    2010-10-11   10.526428   10.615714   10.521428   10.548572    9.115436   \n",
       "1    2010-10-12   10.550357   10.696428   10.446072   10.662143    9.213575   \n",
       "2    2010-10-13   10.721429   10.784286   10.707143   10.719286    9.262955   \n",
       "3    2010-10-14   10.774643   10.802500   10.728572   10.796785    9.329926   \n",
       "4    2010-10-15   10.980000   11.250000   10.889643   11.240714    9.713540   \n",
       "...         ...         ...         ...         ...         ...         ...   \n",
       "2513 2020-10-05  113.910004  116.650002  113.550003  116.500000  116.500000   \n",
       "2514 2020-10-06  115.699997  116.120003  112.250000  113.160004  113.160004   \n",
       "2515 2020-10-07  114.620003  115.550003  114.129997  115.080002  115.080002   \n",
       "2516 2020-10-08  116.250000  116.400002  114.589996  114.970001  114.970001   \n",
       "2517 2020-10-09  115.279999  117.000000  114.919998  116.970001  116.970001   \n",
       "\n",
       "         Volume  \n",
       "0     427753200  \n",
       "1     558544000  \n",
       "2     630092400  \n",
       "3     435296400  \n",
       "4     922194000  \n",
       "...         ...  \n",
       "2513  106243800  \n",
       "2514  161498200  \n",
       "2515   96849000  \n",
       "2516   83477200  \n",
       "2517   99893400  \n",
       "\n",
       "[2518 rows x 7 columns]"
      ]
     },
     "execution_count": 3,
     "metadata": {},
     "output_type": "execute_result"
    }
   ],
   "source": [
    "import pandas as pd\n",
    "import matplotlib.pyplot as plt\n",
    "import ipympl\n",
    "import numpy as np\n",
    "apple = pd.read_csv(\"aapl.csv\")\n",
    "apple['Date'] = pd.to_datetime(apple['Date'])\n",
    "apple"
   ]
  },
  {
   "cell_type": "code",
   "execution_count": null,
   "id": "maritime-cathedral",
   "metadata": {},
   "outputs": [],
   "source": [
    "plt.plot(apple['Date'], apple['Close'])"
   ]
  },
  {
   "attachments": {
    "image.png": {
     "image/png": "[encoded data removed]"
    }
   },
   "cell_type": "markdown",
   "id": "funny-external",
   "metadata": {},
   "source": [
    "# 숙제 1\n",
    "\n",
    "주식에서 Moving Average는 다음과 같습니다.\n",
    "\n",
    "![image.png](attachment:image.png)\n",
    "\n",
    "여기서 n은 자료 항목 갯수를 말하고, X는 평균을 구하는 항목입니다.\n",
    "\n",
    "항목과 숫자 n이 주어졌을 때, Moving Average를 구하는 함수 movAvg를 완성하세요!"
   ]
  },
  {
   "cell_type": "code",
   "execution_count": null,
   "id": "lesser-hurricane",
   "metadata": {},
   "outputs": [],
   "source": [
    "def movAvg(dataset, n):\n",
    "    \n",
    "    # input: 'dataset', which is pandas Series, and 'n': an integer, as two parameters.\n",
    "    # output: A moving averaged list of 'dataset'\n",
    "    # For index < n - 1, l[index] = average from l[0] to l[index]\n",
    "    # Else, l[index] = average from l[index - n + 1] to l[index]\n",
    "\n",
    "        \n",
    "    ### YOUR CODE HERE ###\n",
    "    \n",
    "\n",
    "\n",
    "\n",
    "\n",
    "\n",
    "\n",
    "\n",
    "\n",
    "\n",
    "\n",
    "\n",
    "\n",
    "\n",
    "\n",
    "    ### END OF CODE ###\n",
    "\n",
    "# 코드 확인\n",
    "ret = movAvg(apple['Close'], 7)\n",
    "print(ret[5] == sum(apple['Close'].iloc[:6])/6)"
   ]
  },
  {
   "cell_type": "markdown",
   "id": "distinct-hawaii",
   "metadata": {},
   "source": [
    "# 숙제 2\n",
    "\n",
    "방금 만든 Moving Average 함수를 바탕으로, Apple 자료의 Close 항목의 30일간의 평균을 구하고,해당 자료를 새 항목으로 저장하세요"
   ]
  },
  {
   "cell_type": "code",
   "execution_count": null,
   "id": "higher-round",
   "metadata": {},
   "outputs": [],
   "source": [
    "### YOUR CODE HERE ###\n",
    "\n",
    "\n",
    "\n",
    "### END OF CODE ###\n",
    "\n",
    "\n",
    "# 코드 확인\n",
    "print(round(apple['CloseMovAvg'].iloc[100], 5) == round(apple['Close'].rolling(30).mean().iloc[100], 5))"
   ]
  },
  {
   "cell_type": "markdown",
   "id": "overall-anniversary",
   "metadata": {},
   "source": [
    "# 숙제 3: (네 이번 주 숙제는 조금 양이 있네요 ;;)\n",
    "\n",
    "마지막으로, Apple 의 Close 항목과 CloseMovAvg 항목을 둘 다 그래프에 나타내세요! "
   ]
  },
  {
   "cell_type": "code",
   "execution_count": null,
   "id": "boolean-butter",
   "metadata": {},
   "outputs": [],
   "source": [
    "%matplotlib widget\n",
    "\n",
    "\n",
    "plt.figure(figsize = (10, 5))\n",
    "### YOUR CODE HERE ###\n",
    "\n",
    "\n",
    "\n",
    "### END OF CODE ###"
   ]
  },
  {
   "cell_type": "code",
   "execution_count": 8,
   "id": "forty-peninsula",
   "metadata": {},
   "outputs": [],
   "source": [
    "y = apple['Close'].to_list()\n",
    "x = [i for i in range(len(apple))]\n",
    "coeffs = np.polyfit(x, y, 6)\n",
    "y_fit = np.polyval(coeffs, x)"
   ]
  },
  {
   "cell_type": "code",
   "execution_count": 9,
   "id": "f8368aae",
   "metadata": {},
   "outputs": [
    {
     "data": {
      "text/plain": [
       "Text(0, 0.5, 'Stock Price($)')"
      ]
     },
     "execution_count": 9,
     "metadata": {},
     "output_type": "execute_result"
    },
    {
     "data": {
      "application/vnd.jupyter.widget-view+json": {
       "model_id": "58849f9747804a3599090dc626e78f6d",
       "version_major": 2,
       "version_minor": 0
      },
      "text/html": [
       "\n",
       "            <div style=\"display: inline-block;\">\n",
       "                <div class=\"jupyter-widgets widget-label\" style=\"text-align: center;\">\n",
       "                    Figure\n",
       "                </div>\n",
       "                <img src='data:image/png;base64,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' width=432.0/>\n",
       "            </div>\n",
       "        "
      ],
      "text/plain": [
       "Canvas(toolbar=Toolbar(toolitems=[('Home', 'Reset original view', 'home', 'home'), ('Back', 'Back to previous …"
      ]
     },
     "metadata": {},
     "output_type": "display_data"
    }
   ],
   "source": [
    "plt.figure()\n",
    "plt.plot(apple['Date'], apple['Close'])\n",
    "plt.plot(apple['Date'],y_fit)\n",
    "\n",
    "plt.title(\"Apple Stock Closing Price\")\n",
    "plt.xlabel(\"Years\")\n",
    "plt.ylabel(\"Stock Price($)\")"
   ]
  },
  {
   "cell_type": "code",
   "execution_count": null,
   "id": "d7d6ebc3",
   "metadata": {},
   "outputs": [],
   "source": []
  }
 ],
 "metadata": {
  "kernelspec": {
   "display_name": "Python 3",
   "language": "python",
   "name": "python3"
  },
  "language_info": {
   "codemirror_mode": {
    "name": "ipython",
    "version": 3
   },
   "file_extension": ".py",
   "mimetype": "text/x-python",
   "name": "python",
   "nbconvert_exporter": "python",
   "pygments_lexer": "ipython3",
   "version": "3.8.8"
  }
 },
 "nbformat": 4,
 "nbformat_minor": 5
}
