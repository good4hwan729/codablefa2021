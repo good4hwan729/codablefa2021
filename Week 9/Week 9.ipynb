{
 "cells": [
  {
   "cell_type": "markdown",
   "id": "geological-smooth",
   "metadata": {},
   "source": [
    "# 파이선 러닝 9주차: Numpy"
   ]
  },
  {
   "cell_type": "markdown",
   "id": "subjective-engine",
   "metadata": {},
   "source": [
    "우선적으로 라이브러리를 받아오겠습니다"
   ]
  },
  {
   "cell_type": "code",
   "execution_count": null,
   "id": "ecological-skirt",
   "metadata": {},
   "outputs": [],
   "source": [
    "import numpy as np\n",
    "import matplotlib.pyplot as plt"
   ]
  },
  {
   "cell_type": "markdown",
   "id": "shared-surveillance",
   "metadata": {},
   "source": [
    "# 1. Numpy\n",
    "\n",
    "Numpy는 연산, 특히 리스트를 이용한 연산을 효율적으로 도와주는 라이브러리입니다.\n",
    "\n",
    "기존에 가지고 놀았던 파이선의 기본 List에 반해, Numpy는 Array라는 표현을 더 쓰며, 배열이라고도 합니다"
   ]
  },
  {
   "cell_type": "code",
   "execution_count": null,
   "id": "super-payday",
   "metadata": {},
   "outputs": [],
   "source": [
    "temp = [1, 2, 3, 4]\n",
    "\n",
    "print(np.array(temp))     # 가장 기본적인 Numpy 배열입니다"
   ]
  },
  {
   "cell_type": "code",
   "execution_count": null,
   "id": "interpreted-korea",
   "metadata": {},
   "outputs": [],
   "source": [
    "print(np.arange(1, 10))  # 어느 범위로 배열을 만드는 기능입니다\n",
    "\n",
    "print(np.arange(15)) # 끝지점만 있을 수도 있고\n",
    "\n",
    "print(np.arange(2, 22, 2)) # 리스트 때 배운것과 같이 시작, 끝, 스텝 으로 이루어진 배열을 만들 수 있습니다"
   ]
  },
  {
   "cell_type": "code",
   "execution_count": null,
   "id": "prostate-yesterday",
   "metadata": {},
   "outputs": [],
   "source": [
    "print(np.linspace(1, 4, num = 4)) # 시작, 끝이 주어진 범위에서 n 등분을 하여 배열을 만드는 기능입니다\n",
    "\n",
    "print(np.linspace(2, 3, num = 5))\n",
    "\n",
    "print(np.linspace(0, 100, num = 11))"
   ]
  },
  {
   "cell_type": "code",
   "execution_count": null,
   "id": "social-conflict",
   "metadata": {},
   "outputs": [],
   "source": [
    "# 시각화\n",
    "\n",
    "N = 8\n",
    "y = np.zeros(N)\n",
    "x1 = np.linspace(0, 10, N, endpoint=True) # endpoint = True는 끝에 해당 되는 숫자를 포함시킵니다\n",
    "x2 = np.linspace(0, 10, N, endpoint=False) # endpoint = False는 끝에 해당 되는 숫자를 포함시키지 않습니다\n",
    "plt.plot(x1, y, 'o')\n",
    "plt.plot(x2, y + 0.5, 'o')\n",
    "plt.ylim([-0.5, 1]) # 그래프의 표시 범위를 정하여 보기 편하게 만듭니다\n",
    "plt.show()"
   ]
  },
  {
   "cell_type": "code",
   "execution_count": null,
   "id": "given-ceramic",
   "metadata": {},
   "outputs": [],
   "source": [
    "a = np.empty(10) # 빈 배열을 만들었습니다. 하지만 값을 들어가야 하기 때문에 무작위의 값을 집어넣긴 합니다.\n",
    "print(a)"
   ]
  },
  {
   "cell_type": "code",
   "execution_count": null,
   "id": "known-contact",
   "metadata": {},
   "outputs": [],
   "source": [
    "print(np.full(10, 4, dtype = float)) # 주어진 모양에 원하는 값으로 채우는 기능입니다. dtype는 이 때 값의 형태를 정합니다\n",
    "\n",
    "print(np.full((2, 2), np.inf))\n",
    "\n",
    "print(np.full((2, 2), [1, 2]))"
   ]
  },
  {
   "cell_type": "markdown",
   "id": "discrete-seller",
   "metadata": {},
   "source": [
    "Numpy를 쓰는 이유에는 효율적인 리스트 연산이라고 했는데, 실제로 얼마나 효율적인지 잠시 알아보자면..."
   ]
  },
  {
   "cell_type": "code",
   "execution_count": null,
   "id": "satisfied-carbon",
   "metadata": {
    "scrolled": true
   },
   "outputs": [],
   "source": [
    "%time np.arange(10000000) # numpy 를 이용한 배열\n",
    "%time [i for i in range(10000000)] # Python 기본 리스트"
   ]
  },
  {
   "cell_type": "markdown",
   "id": "color-trash",
   "metadata": {},
   "source": [
    "2차원 배열을 만들겠습니다"
   ]
  },
  {
   "cell_type": "code",
   "execution_count": null,
   "id": "recorded-burlington",
   "metadata": {},
   "outputs": [],
   "source": [
    "temp_matrix = np.array([[1,2,3,4], [5,6,7,8]])"
   ]
  },
  {
   "cell_type": "code",
   "execution_count": null,
   "id": "liberal-compensation",
   "metadata": {},
   "outputs": [],
   "source": [
    "print(temp_matrix.size) #갯수\n",
    "print(temp_matrix.ndim) #차원\n",
    "print(temp_matrix.shape) #모양"
   ]
  },
  {
   "cell_type": "code",
   "execution_count": null,
   "id": "actual-finnish",
   "metadata": {},
   "outputs": [],
   "source": [
    "# 변형\n",
    "\n",
    "print(temp_matrix.reshape(1, 8)) # 모양 변환\n",
    "print(temp_matrix.T) # 전치 행렬 (Transpose)"
   ]
  },
  {
   "cell_type": "code",
   "execution_count": null,
   "id": "amended-still",
   "metadata": {},
   "outputs": [],
   "source": [
    "a = np.array([[1,2],[3,4],[5,6]])\n",
    "b = np.array([[2,2,2],[3,3,3]])\n",
    "\n",
    "\n",
    "print(a * b.T) # 좌표 곱셈\n",
    "print(np.matmul(a, b)) #행렬 곱셈"
   ]
  },
  {
   "cell_type": "code",
   "execution_count": null,
   "id": "9030ee75",
   "metadata": {},
   "outputs": [],
   "source": [
    "arr1 = np.array([1, 2, 3])\n",
    "\n",
    "arr2 = np.array([4, 5, 6])\n",
    "\n",
    "print(np.concatenate((arr1, arr2)))\n",
    "print(np.hstack((arr1, arr2)))\n",
    "print(np.vstack((arr1, arr2)))"
   ]
  },
  {
   "cell_type": "code",
   "execution_count": null,
   "id": "vietnamese-penetration",
   "metadata": {},
   "outputs": [],
   "source": [
    "# 그 외 자주 쓰이는 작업\n",
    "print(a.max())\n",
    "print(a.min())\n",
    "print(a.sum())\n",
    "print(a.flatten())\n",
    "\n",
    "b = np.array([0, 3, 2, 0, 2, 5, 1, 2])\n",
    "print(np.unique(b))\n",
    "print(np.flip(a))"
   ]
  },
  {
   "cell_type": "code",
   "execution_count": null,
   "id": "conservative-brazil",
   "metadata": {},
   "outputs": [],
   "source": [
    "x = np.array([[1,2,3], [4,5,6], [7,8,9], [10, 11, 12]])\n",
    "v = np.array([1, 0, 1])\n",
    "y = np.empty_like(x)   # x 와 같은 모양의 배열 만들기\n",
    "\n",
    "for i in range(4):\n",
    "    y[i, :] = x[i, :] + v\n",
    "    \n",
    "print(y)"
   ]
  },
  {
   "cell_type": "code",
   "execution_count": null,
   "id": "78001146",
   "metadata": {},
   "outputs": [],
   "source": []
  }
 ],
 "metadata": {
  "kernelspec": {
   "display_name": "Python 3",
   "language": "python",
   "name": "python3"
  },
  "language_info": {
   "codemirror_mode": {
    "name": "ipython",
    "version": 3
   },
   "file_extension": ".py",
   "mimetype": "text/x-python",
   "name": "python",
   "nbconvert_exporter": "python",
   "pygments_lexer": "ipython3",
   "version": "3.8.8"
  }
 },
 "nbformat": 4,
 "nbformat_minor": 5
}
