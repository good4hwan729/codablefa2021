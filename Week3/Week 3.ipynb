{
 "cells": [
  {
   "cell_type": "markdown",
   "metadata": {},
   "source": [
    "# 파이선 러닝 3주차 : Lists (2/2), functions, Outside Jupyter Notebook"
   ]
  },
  {
   "cell_type": "markdown",
   "metadata": {},
   "source": [
    "### 과제 0\n",
    "\n",
    "지난 주에 배운 내용을 복습하는 과제를 풀어보겠습니다! "
   ]
  },
  {
   "cell_type": "code",
   "execution_count": null,
   "metadata": {},
   "outputs": [],
   "source": [
    "# 30 부터 50까지 숫자 중 5의 배수를 출력하세요\n",
    "\n",
    "### YOUR CODE HERE ###\n",
    "\n",
    "\n",
    "### END OF CODE ###"
   ]
  },
  {
   "cell_type": "markdown",
   "metadata": {
    "collapsed": true
   },
   "source": [
    "## 1. list 구조 (contd.)\n",
    "\n",
    "list 구조를 쓸 때 자주 보이는 기능을 살펴보겠습니다.  "
   ]
  },
  {
   "cell_type": "markdown",
   "metadata": {},
   "source": [
    "**(1) 리스트에 자료 추가 / 제거 하기**"
   ]
  },
  {
   "cell_type": "code",
   "execution_count": null,
   "metadata": {},
   "outputs": [],
   "source": [
    "one_list = [1]\n",
    "print(one_list)\n",
    "\n",
    "one_list.append(2)      # 자료 추가\n",
    "print(one_list)\n",
    "\n",
    "one_list.remove(1)     # 자료 제거\n",
    "print(one_list)"
   ]
  },
  {
   "cell_type": "markdown",
   "metadata": {},
   "source": [
    "**(2) 자료 부분 탐색**\n",
    "\n",
    "리스트를 부분적으로 탐색하고 싶을 때는 좌표를 구체화시켜야 합니다. 지난주에 배웠던 range 의 다양한 형태를 이용하시면 될 것입니다!"
   ]
  },
  {
   "cell_type": "code",
   "execution_count": null,
   "metadata": {},
   "outputs": [],
   "source": [
    "# 좌표 형식 : (리스트 이름)[시작 : 끝 : 스텝]\n",
    "\n",
    "one_ten_list = [1, 2, 3, 4, 5, 6, 7, 8, 9, 10]"
   ]
  },
  {
   "cell_type": "code",
   "execution_count": null,
   "metadata": {},
   "outputs": [],
   "source": [
    "print(\"1: \", one_ten_list[0:2]) # 시작과 끝이 제시 된 경우"
   ]
  },
  {
   "cell_type": "code",
   "execution_count": null,
   "metadata": {},
   "outputs": [],
   "source": [
    "print(\"2: \", one_ten_list[3:8]) # 시작과 끝이 제시 된 경우 2"
   ]
  },
  {
   "cell_type": "code",
   "execution_count": null,
   "metadata": {},
   "outputs": [],
   "source": [
    "print(\"3: \", one_ten_list[5:]) # 시작만 제시 된 경우"
   ]
  },
  {
   "cell_type": "code",
   "execution_count": null,
   "metadata": {},
   "outputs": [],
   "source": [
    "print(\"4: \", one_ten_list[: 4]) # 끝만 제시 된 경우"
   ]
  },
  {
   "cell_type": "code",
   "execution_count": null,
   "metadata": {},
   "outputs": [],
   "source": [
    "print(\"5: \", one_ten_list[4: -1]) # 끝을 다르게 표기 할 경우"
   ]
  },
  {
   "cell_type": "code",
   "execution_count": null,
   "metadata": {},
   "outputs": [],
   "source": [
    "print(\"6: \", one_ten_list[1:8:2]) # 스텝을 포함 시킨 경우"
   ]
  },
  {
   "cell_type": "code",
   "execution_count": null,
   "metadata": {},
   "outputs": [],
   "source": [
    "print(\"7: \", one_ten_list[::-1]) # 스텝만 제시 된 경우"
   ]
  },
  {
   "cell_type": "code",
   "execution_count": null,
   "metadata": {},
   "outputs": [],
   "source": [
    "print(\"8: \", one_ten_list[7: 3: -1]) # 역행으로 된 경우"
   ]
  },
  {
   "cell_type": "markdown",
   "metadata": {},
   "source": [
    "**(3) 리스트에 자료 찾기**"
   ]
  },
  {
   "cell_type": "code",
   "execution_count": null,
   "metadata": {},
   "outputs": [],
   "source": [
    "groceries_list = ['양파', '우유', '돼지고기', '맥주', '배터리']\n",
    "\n",
    "if '맥주' in groceries_list: # 맥주가 장바구니에 있는지 확인합니다\n",
    "    print(\"불필요한 지출입니다.\")\n",
    "\n",
    "if '물' not in groceries_list: # 물이 리스트에 없는지 확인합니다\n",
    "    print(\"물 사는거 잊지 마세요!\")"
   ]
  },
  {
   "cell_type": "markdown",
   "metadata": {},
   "source": [
    "### 과제 1\n",
    "\n",
    "지난 주에 리스트의 길이를 알고 싶을 때 len( (리스트 이름) ) 을 쓴다고 배웠지만, 사실 len()은 string의 길이를 구하고 싶을 때도 쓸 수 있습니다."
   ]
  },
  {
   "cell_type": "code",
   "execution_count": null,
   "metadata": {},
   "outputs": [],
   "source": [
    "this_is_a_very_long_string = 'incomprehensibilities'\n",
    "\n",
    "print(len(this_is_a_very_long_string))"
   ]
  },
  {
   "cell_type": "markdown",
   "metadata": {},
   "source": [
    "여기 word_list가 있습니다. word_list의 15번째 자료 부터 35번째 자료까지 단어들 중 길이가 8보다 큰 단어들을 두번째 리스트 long_list에 저장해주세요!"
   ]
  },
  {
   "cell_type": "code",
   "execution_count": null,
   "metadata": {},
   "outputs": [],
   "source": [
    "word_list = [\"clue\", \"regard\", \"battery\", \"observation\", \"news\", \"peasant\", \"alcohol\", \"hang\", \"raise\", \"bitter\", \"desert\", \"accumulation\"\n",
    ",\"essential\", \"rainbow\", \"base\", \"fresh\", \"unfair\", \"soup\", \"economic\", \"piano\", \"different\", \"mercy\", \"physics\", \"drink\", \"tumour\"\n",
    ",\"spontaneous\", \"sector\", \"inappropriate\", \"development\", \"investment\", \"child\", \"sight\", \"enhance\", \"blonde\", \"dine\", \"fairy\"\n",
    ",\"rocket\", \"gradual\", \"subject\", \"offense\", \"waste\", \"branch\", \"necklace\", \"neighborhood\", \"failure\", \"behavior\", \"anger\", \"host\"\n",
    ",\"solution\", \"scrap\"]\n",
    "\n",
    "long_list = []\n",
    "\n",
    "### YOUR CODE HERE ###\n",
    "        \n",
    "### END OF CODE ###\n",
    "\n",
    "print(long_list)"
   ]
  },
  {
   "cell_type": "markdown",
   "metadata": {},
   "source": [
    "## 2. 함수 (functions)\n",
    "\n",
    "스스로 파이선을 진행하기 위해 제일 중요한 함수 만들기입니다!"
   ]
  },
  {
   "cell_type": "code",
   "execution_count": null,
   "metadata": {},
   "outputs": [],
   "source": [
    "def example_function(x, y): # def (함수 이름) (함수에 들어갈 변수 - 선택)\n",
    "    return x + y"
   ]
  },
  {
   "cell_type": "code",
   "execution_count": null,
   "metadata": {},
   "outputs": [],
   "source": [
    "example_function(2, 4) # x = 2, y = 4"
   ]
  },
  {
   "cell_type": "code",
   "execution_count": null,
   "metadata": {},
   "outputs": [],
   "source": [
    "example_function(1) # 반드시 함수의 형식을 따라 변수를 입력해야 합니다!"
   ]
  },
  {
   "cell_type": "markdown",
   "metadata": {},
   "source": [
    "기본값을 가지는 함수를 만들면 모든 변수를 따로 입력하지 않아도 함수가 실행 될 수 있습니다."
   ]
  },
  {
   "cell_type": "code",
   "execution_count": null,
   "metadata": {},
   "outputs": [],
   "source": [
    "def subtract_numbers(a = 10, b = 5):\n",
    "    return a - b"
   ]
  },
  {
   "cell_type": "code",
   "execution_count": null,
   "metadata": {},
   "outputs": [],
   "source": [
    "subtract_numbers()"
   ]
  },
  {
   "cell_type": "code",
   "execution_count": null,
   "metadata": {},
   "outputs": [],
   "source": [
    "# 선행 방지 코드입니다. 선행 하지 마세요!\n",
    "x = 1\n",
    "while x == 1:\n",
    "    print(\"1\")"
   ]
  },
  {
   "cell_type": "code",
   "execution_count": null,
   "metadata": {},
   "outputs": [],
   "source": [
    "subtract_numbers(100, 87)"
   ]
  },
  {
   "cell_type": "code",
   "execution_count": null,
   "metadata": {},
   "outputs": [],
   "source": [
    "subtract_numbers(7) # a = 7"
   ]
  },
  {
   "cell_type": "code",
   "execution_count": null,
   "metadata": {},
   "outputs": [],
   "source": [
    "subtract_numbers(b = 8) # b = 8"
   ]
  },
  {
   "cell_type": "code",
   "execution_count": null,
   "metadata": {},
   "outputs": [],
   "source": [
    "# 문제 : 다음 코드를 돌렸을 때 출력 되는 값은 무엇일까요?\n",
    "\n",
    "# subtract_numbers(subtract_numbers(10, 2), subtract_numbers(10, subtract_numbers(8)))"
   ]
  },
  {
   "cell_type": "markdown",
   "metadata": {},
   "source": [
    "과제를 풀기 앞서 다양한 function 들을 보겠습니다"
   ]
  },
  {
   "cell_type": "code",
   "execution_count": null,
   "metadata": {},
   "outputs": [],
   "source": [
    "def list_sum(x):\n",
    "    \n",
    "    # x : input list\n",
    "    # return : sum of all numbers in the list x\n",
    "    \n",
    "    sums = 0\n",
    "    \n",
    "    for i in x:\n",
    "        sums += i\n",
    "        \n",
    "    return sums\n",
    "\n",
    "one_to_five = [1, 2, 3, 4, 5]\n",
    "\n",
    "list_sum(one_to_five)"
   ]
  },
  {
   "cell_type": "code",
   "execution_count": null,
   "metadata": {},
   "outputs": [],
   "source": [
    "def aaaa():\n",
    "    \n",
    "    # return : mood\n",
    "    \n",
    "    return \"AAAAAAAAAAAAAAAAAAAAAAAAAAAAAA\"\n",
    "\n",
    "aaaa()"
   ]
  },
  {
   "cell_type": "code",
   "execution_count": null,
   "metadata": {},
   "outputs": [],
   "source": [
    "def dummy_function():\n",
    "    \n",
    "    # 다음 함수는 코더블 FALL 2021 리크루팅 인터뷰에 실제로 사용되었던 함수입니다.\n",
    "    # 지금까지 배운 내용을 바탕으로 이제 여러분도 이 함수를 이해 할 수 있을 것입니다!\n",
    "    # ㅁ..마 맞죠?\n",
    "    \n",
    "    num_list = [3, 4, 5, 6]\n",
    "    empty_list = []\n",
    "\n",
    "    for i in num_list:\n",
    "        if i %2  == 0:\n",
    "            empty_list.append(i ** 2)\n",
    "            \n",
    "    return empty_list[::-1]\n",
    "\n",
    "dummy_function()"
   ]
  },
  {
   "cell_type": "markdown",
   "metadata": {},
   "source": [
    "### 과제 2:\n",
    "\n",
    "factorial(x) 함수를 완성해주세요."
   ]
  },
  {
   "cell_type": "code",
   "execution_count": null,
   "metadata": {},
   "outputs": [],
   "source": [
    "def factorial(x):\n",
    "    \n",
    "    # input: An integer we want the factorial of\n",
    "    # output: fact = x!\n",
    "    # example: 4! = 4 * 3 * 2 * 1 = 24\n",
    "    \n",
    "    # HINT : factorial은 결국 1 부터 x 까지 모든 숫자의 곱을 구하는 것입니다. 모든 숫자를 돌아보는 동안 fact에 곱한 값을 저장하면 됩니다.\n",
    "    \n",
    "    fact = 1\n",
    "    \n",
    "    ### YOUR CODE HERE ###\n",
    "\n",
    "    \n",
    "    ### END OF CODE ###\n",
    "    \n",
    "    return fact\n",
    "\n",
    "\n",
    "# 정답 확인\n",
    "if factorial(4) != 24:\n",
    "    print(\"땡! 다시 한번 잘 확인해보세요\")\n",
    "    \n",
    "else:\n",
    "    print(\"정답입니다!\")"
   ]
  },
  {
   "cell_type": "markdown",
   "metadata": {},
   "source": [
    "## 3. 파이선 파일을 직접 만들기"
   ]
  },
  {
   "cell_type": "markdown",
   "metadata": {},
   "source": [
    "앞으로 개념을 나아가기 앞서, 지금까지 배운 내용을 바탕으로 직접 프로그램을 만드는 과정을 진행하겠습니다!"
   ]
  },
  {
   "cell_type": "markdown",
   "metadata": {},
   "source": [
    "## 4. (시간 남으면) Recursion - 재귀"
   ]
  },
  {
   "cell_type": "markdown",
   "metadata": {},
   "source": [
    "어떤 함수의 작업이 반복적이고 분류가 가능하다고 판단 되면, recursion을 이용해서 단순 반복 코딩을 막을 수 있습니다."
   ]
  },
  {
   "cell_type": "code",
   "execution_count": null,
   "metadata": {},
   "outputs": [],
   "source": [
    "def factorial_recursion(x):\n",
    "    if x == 1:\n",
    "        return 1\n",
    "    \n",
    "    return x * factorial_recursion(x-1)"
   ]
  },
  {
   "cell_type": "code",
   "execution_count": null,
   "metadata": {},
   "outputs": [],
   "source": [
    "def floor_by_ten(x):\n",
    "    while x % 10 != 0:\n",
    "        x -= 1\n",
    "    \n",
    "    return x\n",
    "\n",
    "def floor_by_ten_recursion(x):\n",
    "    if x % 10 == 0:\n",
    "        return x\n",
    "    \n",
    "    return floor_by_ten_recursion(x - 1)"
   ]
  },
  {
   "cell_type": "markdown",
   "metadata": {},
   "source": [
    "### 과제 3:\n",
    "\n",
    "피보나치 수열은 0, 1 부터 시작해서 앞의 두 숫자를 더한 값이 다음 숫자가 되는 수열입니다.\n",
    "\n",
    "0, 1, 1, 2, 3, 5, 8, 13, 21 ...\n",
    "\n",
    "재귀 (Recursion)를 이용해서 피보나치 수열의 n 번째 숫자를 구하는 함수를 완성하세요!"
   ]
  },
  {
   "cell_type": "code",
   "execution_count": null,
   "metadata": {},
   "outputs": [],
   "source": [
    "def fibonacci_recursion(n):\n",
    "    \n",
    "    \n",
    "    ### YOUR CODE HERE ###\n",
    "      \n",
    "    return\n",
    "\n",
    "    ### END OF CODE ###\n",
    "    \n",
    "fibonacci_recursion(9)"
   ]
  },
  {
   "cell_type": "code",
   "execution_count": null,
   "metadata": {},
   "outputs": [],
   "source": []
  }
 ],
 "metadata": {
  "kernelspec": {
   "display_name": "Python 3 (ipykernel)",
   "language": "python",
   "name": "python3"
  },
  "language_info": {
   "codemirror_mode": {
    "name": "ipython",
    "version": 3
   },
   "file_extension": ".py",
   "mimetype": "text/x-python",
   "name": "python",
   "nbconvert_exporter": "python",
   "pygments_lexer": "ipython3",
   "version": "3.8.3"
  }
 },
 "nbformat": 4,
 "nbformat_minor": 2
}
